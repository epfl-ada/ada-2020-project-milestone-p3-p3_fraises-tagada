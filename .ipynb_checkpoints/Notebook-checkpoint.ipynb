{
 "cells": [
  {
   "cell_type": "code",
   "execution_count": 1,
   "metadata": {},
   "outputs": [],
   "source": [
    "import os\n",
    "import pandas as pd\n",
    "import numpy as np\n",
    "import datetime as dt\n",
    "import warnings\n",
    "import sklearn.linear_model as lm\n",
    "import seaborn as sns\n",
    "import matplotlib.pyplot as plt\n",
    "warnings.filterwarnings('ignore')"
   ]
  },
  {
   "cell_type": "markdown",
   "metadata": {},
   "source": [
    "In order to make the dataset, the raw data must be in a directory 'Not_Zip' and named with its state name, e.g. 'Not_Zip/AZ.csv' for Arizona"
   ]
  },
  {
   "cell_type": "markdown",
   "metadata": {},
   "source": [
    "### States to keep:\n",
    "\n",
    "Republicans: \n",
    "1. Arizona (3.5 million)\n",
    "2. Ohio (7.2 million) -> discarded\n",
    "3. South Carolina (9 million)\n",
    "4. Texas (27 million)\n",
    "\n",
    "Democrats:\n",
    "1. California (32 million)\n",
    "2. Connecticut (1 million)\n",
    "3. Illinois (13 million)\n",
    "4. Rhode Island (510 000) -> discarded\n",
    "\n",
    "### Features to take:\n",
    "1. Date\n",
    "2. Race\n",
    "3. Sex\n",
    "\n",
    "Take 300 000 datapoint per set -> we end with a dataset with roughly 2 million datapoints"
   ]
  },
  {
   "cell_type": "code",
   "execution_count": 2,
   "metadata": {},
   "outputs": [],
   "source": [
    "PATH = 'Not_Zip/'\n",
    "cols_to_use = ['date','subject_race', 'subject_sex', 'search_conducted']\n",
    "States = ['AZ', 'SC', 'TX', 'CA', 'CT', 'IL']\n",
    "number_subsamples = 300000"
   ]
  },
  {
   "cell_type": "code",
   "execution_count": 3,
   "metadata": {},
   "outputs": [
    {
     "ename": "FileNotFoundError",
     "evalue": "[Errno 2] No such file or directory: 'Not_Zip/AZ.csv'",
     "output_type": "error",
     "traceback": [
      "\u001b[0;31m---------------------------------------------------------------------------\u001b[0m",
      "\u001b[0;31mFileNotFoundError\u001b[0m                         Traceback (most recent call last)",
      "\u001b[0;32m<ipython-input-3-2d177cae754c>\u001b[0m in \u001b[0;36m<module>\u001b[0;34m\u001b[0m\n\u001b[1;32m      5\u001b[0m \u001b[0;32mfor\u001b[0m \u001b[0mstate\u001b[0m \u001b[0;32min\u001b[0m \u001b[0mStates\u001b[0m\u001b[0;34m:\u001b[0m\u001b[0;34m\u001b[0m\u001b[0;34m\u001b[0m\u001b[0m\n\u001b[1;32m      6\u001b[0m \u001b[0;34m\u001b[0m\u001b[0m\n\u001b[0;32m----> 7\u001b[0;31m     \u001b[0mdf\u001b[0m \u001b[0;34m=\u001b[0m \u001b[0mpd\u001b[0m\u001b[0;34m.\u001b[0m\u001b[0mread_csv\u001b[0m\u001b[0;34m(\u001b[0m\u001b[0mPATH\u001b[0m \u001b[0;34m+\u001b[0m \u001b[0mstate\u001b[0m \u001b[0;34m+\u001b[0m \u001b[0;34m'.csv'\u001b[0m\u001b[0;34m,\u001b[0m \u001b[0musecols\u001b[0m \u001b[0;34m=\u001b[0m \u001b[0mcols_to_use\u001b[0m\u001b[0;34m)\u001b[0m\u001b[0;34m\u001b[0m\u001b[0;34m\u001b[0m\u001b[0m\n\u001b[0m\u001b[1;32m      8\u001b[0m     \u001b[0mdf\u001b[0m\u001b[0;34m.\u001b[0m\u001b[0mdropna\u001b[0m\u001b[0;34m(\u001b[0m\u001b[0minplace\u001b[0m \u001b[0;34m=\u001b[0m \u001b[0;32mTrue\u001b[0m\u001b[0;34m)\u001b[0m\u001b[0;34m\u001b[0m\u001b[0;34m\u001b[0m\u001b[0m\n\u001b[1;32m      9\u001b[0m     \u001b[0mdf\u001b[0m\u001b[0;34m.\u001b[0m\u001b[0mdate\u001b[0m \u001b[0;34m=\u001b[0m \u001b[0mpd\u001b[0m\u001b[0;34m.\u001b[0m\u001b[0mto_datetime\u001b[0m\u001b[0;34m(\u001b[0m\u001b[0mdf\u001b[0m\u001b[0;34m.\u001b[0m\u001b[0mdate\u001b[0m\u001b[0;34m)\u001b[0m\u001b[0;34m\u001b[0m\u001b[0;34m\u001b[0m\u001b[0m\n",
      "\u001b[0;32m~/anaconda3/lib/python3.8/site-packages/pandas/io/parsers.py\u001b[0m in \u001b[0;36mread_csv\u001b[0;34m(filepath_or_buffer, sep, delimiter, header, names, index_col, usecols, squeeze, prefix, mangle_dupe_cols, dtype, engine, converters, true_values, false_values, skipinitialspace, skiprows, skipfooter, nrows, na_values, keep_default_na, na_filter, verbose, skip_blank_lines, parse_dates, infer_datetime_format, keep_date_col, date_parser, dayfirst, cache_dates, iterator, chunksize, compression, thousands, decimal, lineterminator, quotechar, quoting, doublequote, escapechar, comment, encoding, dialect, error_bad_lines, warn_bad_lines, delim_whitespace, low_memory, memory_map, float_precision)\u001b[0m\n\u001b[1;32m    684\u001b[0m     )\n\u001b[1;32m    685\u001b[0m \u001b[0;34m\u001b[0m\u001b[0m\n\u001b[0;32m--> 686\u001b[0;31m     \u001b[0;32mreturn\u001b[0m \u001b[0m_read\u001b[0m\u001b[0;34m(\u001b[0m\u001b[0mfilepath_or_buffer\u001b[0m\u001b[0;34m,\u001b[0m \u001b[0mkwds\u001b[0m\u001b[0;34m)\u001b[0m\u001b[0;34m\u001b[0m\u001b[0;34m\u001b[0m\u001b[0m\n\u001b[0m\u001b[1;32m    687\u001b[0m \u001b[0;34m\u001b[0m\u001b[0m\n\u001b[1;32m    688\u001b[0m \u001b[0;34m\u001b[0m\u001b[0m\n",
      "\u001b[0;32m~/anaconda3/lib/python3.8/site-packages/pandas/io/parsers.py\u001b[0m in \u001b[0;36m_read\u001b[0;34m(filepath_or_buffer, kwds)\u001b[0m\n\u001b[1;32m    450\u001b[0m \u001b[0;34m\u001b[0m\u001b[0m\n\u001b[1;32m    451\u001b[0m     \u001b[0;31m# Create the parser.\u001b[0m\u001b[0;34m\u001b[0m\u001b[0;34m\u001b[0m\u001b[0;34m\u001b[0m\u001b[0m\n\u001b[0;32m--> 452\u001b[0;31m     \u001b[0mparser\u001b[0m \u001b[0;34m=\u001b[0m \u001b[0mTextFileReader\u001b[0m\u001b[0;34m(\u001b[0m\u001b[0mfp_or_buf\u001b[0m\u001b[0;34m,\u001b[0m \u001b[0;34m**\u001b[0m\u001b[0mkwds\u001b[0m\u001b[0;34m)\u001b[0m\u001b[0;34m\u001b[0m\u001b[0;34m\u001b[0m\u001b[0m\n\u001b[0m\u001b[1;32m    453\u001b[0m \u001b[0;34m\u001b[0m\u001b[0m\n\u001b[1;32m    454\u001b[0m     \u001b[0;32mif\u001b[0m \u001b[0mchunksize\u001b[0m \u001b[0;32mor\u001b[0m \u001b[0miterator\u001b[0m\u001b[0;34m:\u001b[0m\u001b[0;34m\u001b[0m\u001b[0;34m\u001b[0m\u001b[0m\n",
      "\u001b[0;32m~/anaconda3/lib/python3.8/site-packages/pandas/io/parsers.py\u001b[0m in \u001b[0;36m__init__\u001b[0;34m(self, f, engine, **kwds)\u001b[0m\n\u001b[1;32m    944\u001b[0m             \u001b[0mself\u001b[0m\u001b[0;34m.\u001b[0m\u001b[0moptions\u001b[0m\u001b[0;34m[\u001b[0m\u001b[0;34m\"has_index_names\"\u001b[0m\u001b[0;34m]\u001b[0m \u001b[0;34m=\u001b[0m \u001b[0mkwds\u001b[0m\u001b[0;34m[\u001b[0m\u001b[0;34m\"has_index_names\"\u001b[0m\u001b[0;34m]\u001b[0m\u001b[0;34m\u001b[0m\u001b[0;34m\u001b[0m\u001b[0m\n\u001b[1;32m    945\u001b[0m \u001b[0;34m\u001b[0m\u001b[0m\n\u001b[0;32m--> 946\u001b[0;31m         \u001b[0mself\u001b[0m\u001b[0;34m.\u001b[0m\u001b[0m_make_engine\u001b[0m\u001b[0;34m(\u001b[0m\u001b[0mself\u001b[0m\u001b[0;34m.\u001b[0m\u001b[0mengine\u001b[0m\u001b[0;34m)\u001b[0m\u001b[0;34m\u001b[0m\u001b[0;34m\u001b[0m\u001b[0m\n\u001b[0m\u001b[1;32m    947\u001b[0m \u001b[0;34m\u001b[0m\u001b[0m\n\u001b[1;32m    948\u001b[0m     \u001b[0;32mdef\u001b[0m \u001b[0mclose\u001b[0m\u001b[0;34m(\u001b[0m\u001b[0mself\u001b[0m\u001b[0;34m)\u001b[0m\u001b[0;34m:\u001b[0m\u001b[0;34m\u001b[0m\u001b[0;34m\u001b[0m\u001b[0m\n",
      "\u001b[0;32m~/anaconda3/lib/python3.8/site-packages/pandas/io/parsers.py\u001b[0m in \u001b[0;36m_make_engine\u001b[0;34m(self, engine)\u001b[0m\n\u001b[1;32m   1176\u001b[0m     \u001b[0;32mdef\u001b[0m \u001b[0m_make_engine\u001b[0m\u001b[0;34m(\u001b[0m\u001b[0mself\u001b[0m\u001b[0;34m,\u001b[0m \u001b[0mengine\u001b[0m\u001b[0;34m=\u001b[0m\u001b[0;34m\"c\"\u001b[0m\u001b[0;34m)\u001b[0m\u001b[0;34m:\u001b[0m\u001b[0;34m\u001b[0m\u001b[0;34m\u001b[0m\u001b[0m\n\u001b[1;32m   1177\u001b[0m         \u001b[0;32mif\u001b[0m \u001b[0mengine\u001b[0m \u001b[0;34m==\u001b[0m \u001b[0;34m\"c\"\u001b[0m\u001b[0;34m:\u001b[0m\u001b[0;34m\u001b[0m\u001b[0;34m\u001b[0m\u001b[0m\n\u001b[0;32m-> 1178\u001b[0;31m             \u001b[0mself\u001b[0m\u001b[0;34m.\u001b[0m\u001b[0m_engine\u001b[0m \u001b[0;34m=\u001b[0m \u001b[0mCParserWrapper\u001b[0m\u001b[0;34m(\u001b[0m\u001b[0mself\u001b[0m\u001b[0;34m.\u001b[0m\u001b[0mf\u001b[0m\u001b[0;34m,\u001b[0m \u001b[0;34m**\u001b[0m\u001b[0mself\u001b[0m\u001b[0;34m.\u001b[0m\u001b[0moptions\u001b[0m\u001b[0;34m)\u001b[0m\u001b[0;34m\u001b[0m\u001b[0;34m\u001b[0m\u001b[0m\n\u001b[0m\u001b[1;32m   1179\u001b[0m         \u001b[0;32melse\u001b[0m\u001b[0;34m:\u001b[0m\u001b[0;34m\u001b[0m\u001b[0;34m\u001b[0m\u001b[0m\n\u001b[1;32m   1180\u001b[0m             \u001b[0;32mif\u001b[0m \u001b[0mengine\u001b[0m \u001b[0;34m==\u001b[0m \u001b[0;34m\"python\"\u001b[0m\u001b[0;34m:\u001b[0m\u001b[0;34m\u001b[0m\u001b[0;34m\u001b[0m\u001b[0m\n",
      "\u001b[0;32m~/anaconda3/lib/python3.8/site-packages/pandas/io/parsers.py\u001b[0m in \u001b[0;36m__init__\u001b[0;34m(self, src, **kwds)\u001b[0m\n\u001b[1;32m   2006\u001b[0m         \u001b[0mkwds\u001b[0m\u001b[0;34m[\u001b[0m\u001b[0;34m\"usecols\"\u001b[0m\u001b[0;34m]\u001b[0m \u001b[0;34m=\u001b[0m \u001b[0mself\u001b[0m\u001b[0;34m.\u001b[0m\u001b[0musecols\u001b[0m\u001b[0;34m\u001b[0m\u001b[0;34m\u001b[0m\u001b[0m\n\u001b[1;32m   2007\u001b[0m \u001b[0;34m\u001b[0m\u001b[0m\n\u001b[0;32m-> 2008\u001b[0;31m         \u001b[0mself\u001b[0m\u001b[0;34m.\u001b[0m\u001b[0m_reader\u001b[0m \u001b[0;34m=\u001b[0m \u001b[0mparsers\u001b[0m\u001b[0;34m.\u001b[0m\u001b[0mTextReader\u001b[0m\u001b[0;34m(\u001b[0m\u001b[0msrc\u001b[0m\u001b[0;34m,\u001b[0m \u001b[0;34m**\u001b[0m\u001b[0mkwds\u001b[0m\u001b[0;34m)\u001b[0m\u001b[0;34m\u001b[0m\u001b[0;34m\u001b[0m\u001b[0m\n\u001b[0m\u001b[1;32m   2009\u001b[0m         \u001b[0mself\u001b[0m\u001b[0;34m.\u001b[0m\u001b[0munnamed_cols\u001b[0m \u001b[0;34m=\u001b[0m \u001b[0mself\u001b[0m\u001b[0;34m.\u001b[0m\u001b[0m_reader\u001b[0m\u001b[0;34m.\u001b[0m\u001b[0munnamed_cols\u001b[0m\u001b[0;34m\u001b[0m\u001b[0;34m\u001b[0m\u001b[0m\n\u001b[1;32m   2010\u001b[0m \u001b[0;34m\u001b[0m\u001b[0m\n",
      "\u001b[0;32mpandas/_libs/parsers.pyx\u001b[0m in \u001b[0;36mpandas._libs.parsers.TextReader.__cinit__\u001b[0;34m()\u001b[0m\n",
      "\u001b[0;32mpandas/_libs/parsers.pyx\u001b[0m in \u001b[0;36mpandas._libs.parsers.TextReader._setup_parser_source\u001b[0;34m()\u001b[0m\n",
      "\u001b[0;31mFileNotFoundError\u001b[0m: [Errno 2] No such file or directory: 'Not_Zip/AZ.csv'"
     ]
    }
   ],
   "source": [
    "# Get the biggest time range for which all datasets contains values\n",
    "min_date = dt.datetime(1900,1,1)\n",
    "max_date = dt.datetime(2030,1,1)\n",
    "\n",
    "for state in States:\n",
    "    \n",
    "    df = pd.read_csv(PATH + state + '.csv', usecols = cols_to_use)\n",
    "    df.dropna(inplace = True)\n",
    "    df.date = pd.to_datetime(df.date)\n",
    "    df_min_date = df.date.min()\n",
    "    df_max_date = df.date.max()\n",
    "    \n",
    "    if df_min_date > min_date:\n",
    "        min_date = df_min_date\n",
    "    \n",
    "    if df_max_date < max_date:\n",
    "        max_date = df_max_date\n",
    "\n",
    "print('Min_date = {}, Max_date = {}'.format(min_date, max_date))    "
   ]
  },
  {
   "cell_type": "code",
   "execution_count": 4,
   "metadata": {},
   "outputs": [
    {
     "name": "stdout",
     "output_type": "stream",
     "text": [
      "State AZ processed.\n",
      "State SC processed.\n",
      "State TX processed.\n",
      "State CA processed.\n",
      "State CT processed.\n",
      "State IL processed.\n"
     ]
    }
   ],
   "source": [
    "df = pd.DataFrame([], columns = ['date', 'subject_race', 'subject_sex', 'search_conducted', 'State'])\n",
    "for state in States:\n",
    "    \n",
    "    # Get the dataset with only the desired columns\n",
    "    df_state = pd.read_csv(PATH + state + '.csv', usecols = cols_to_use)\n",
    "    \n",
    "    # Drop nan values\n",
    "    df_state.dropna(inplace = True)\n",
    "    \n",
    "    # Only keep Hispanic, Black and White drivers\n",
    "    df_state = df_state.iloc[[x in ['hispanic', 'black', 'white'] for x in df_state.subject_race]]\n",
    "    \n",
    "    # Keep only data in the good time range\n",
    "    df_state.date = pd.to_datetime(df_state.date)\n",
    "    df_state = df_state[(df_state.date > min_date) & (df_state.date < max_date)]\n",
    "    \n",
    "    # Randomly create indices of the datapoints to keep\n",
    "    inds = np.random.permutation(range(df_state.shape[0]))[:number_subsamples]\n",
    "    \n",
    "    # Keep only the subsample\n",
    "    df_state = df_state.iloc[inds]\n",
    "    \n",
    "    # Append the state so that we know where the datapoints come from\n",
    "    df_state['State'] = df_state.date.apply(lambda x: state)\n",
    "    \n",
    "    # Concatenate with the final dataset\n",
    "    df = pd.concat((df, df_state))\n",
    "    \n",
    "    del df_state\n",
    "    \n",
    "    print('State {} processed.'.format(state))"
   ]
  },
  {
   "cell_type": "code",
   "execution_count": 5,
   "metadata": {},
   "outputs": [],
   "source": [
    "df.to_csv('data', index = False)"
   ]
  },
  {
   "cell_type": "code",
   "execution_count": 6,
   "metadata": {},
   "outputs": [],
   "source": [
    "df = pd.read_csv('data')"
   ]
  },
  {
   "cell_type": "code",
   "execution_count": 7,
   "metadata": {},
   "outputs": [
    {
     "data": {
      "text/html": [
       "<div>\n",
       "<style scoped>\n",
       "    .dataframe tbody tr th:only-of-type {\n",
       "        vertical-align: middle;\n",
       "    }\n",
       "\n",
       "    .dataframe tbody tr th {\n",
       "        vertical-align: top;\n",
       "    }\n",
       "\n",
       "    .dataframe thead th {\n",
       "        text-align: right;\n",
       "    }\n",
       "</style>\n",
       "<table border=\"1\" class=\"dataframe\">\n",
       "  <thead>\n",
       "    <tr style=\"text-align: right;\">\n",
       "      <th></th>\n",
       "      <th>date</th>\n",
       "      <th>subject_race</th>\n",
       "      <th>subject_sex</th>\n",
       "      <th>search_conducted</th>\n",
       "      <th>State</th>\n",
       "    </tr>\n",
       "  </thead>\n",
       "  <tbody>\n",
       "    <tr>\n",
       "      <th>0</th>\n",
       "      <td>2014-02-15</td>\n",
       "      <td>white</td>\n",
       "      <td>male</td>\n",
       "      <td>False</td>\n",
       "      <td>AZ</td>\n",
       "    </tr>\n",
       "    <tr>\n",
       "      <th>1</th>\n",
       "      <td>2014-10-08</td>\n",
       "      <td>white</td>\n",
       "      <td>female</td>\n",
       "      <td>False</td>\n",
       "      <td>AZ</td>\n",
       "    </tr>\n",
       "    <tr>\n",
       "      <th>2</th>\n",
       "      <td>2014-02-12</td>\n",
       "      <td>white</td>\n",
       "      <td>female</td>\n",
       "      <td>False</td>\n",
       "      <td>AZ</td>\n",
       "    </tr>\n",
       "    <tr>\n",
       "      <th>3</th>\n",
       "      <td>2013-10-18</td>\n",
       "      <td>white</td>\n",
       "      <td>male</td>\n",
       "      <td>False</td>\n",
       "      <td>AZ</td>\n",
       "    </tr>\n",
       "    <tr>\n",
       "      <th>4</th>\n",
       "      <td>2014-02-28</td>\n",
       "      <td>black</td>\n",
       "      <td>female</td>\n",
       "      <td>False</td>\n",
       "      <td>AZ</td>\n",
       "    </tr>\n",
       "  </tbody>\n",
       "</table>\n",
       "</div>"
      ],
      "text/plain": [
       "         date subject_race subject_sex  search_conducted State\n",
       "0  2014-02-15        white        male             False    AZ\n",
       "1  2014-10-08        white      female             False    AZ\n",
       "2  2014-02-12        white      female             False    AZ\n",
       "3  2013-10-18        white        male             False    AZ\n",
       "4  2014-02-28        black      female             False    AZ"
      ]
     },
     "execution_count": 7,
     "metadata": {},
     "output_type": "execute_result"
    }
   ],
   "source": [
    "df.head()"
   ]
  },
  {
   "cell_type": "markdown",
   "metadata": {},
   "source": [
    "Make the logistic Regression to get the search rates"
   ]
  },
  {
   "cell_type": "code",
   "execution_count": 8,
   "metadata": {},
   "outputs": [],
   "source": [
    "df = pd.read_csv('data')\n",
    "# First we transform the datetime to ordinal values\n",
    "df.date = pd.to_datetime(df.date)\n",
    "df.date = df.date.map(dt.datetime.toordinal)\n",
    "\n",
    "# Make search_conducted be 0 or 1\n",
    "df.search_conducted =  df.search_conducted.astype(int)\n",
    "\n",
    "# Compute the serch rates using a logistic regression and cross validation\n",
    "features = df[['date', 'subject_race', 'subject_sex']]\n",
    "features = pd.get_dummies(features)\n",
    "labels = df['search_conducted']\n",
    "\n",
    "model = lm.LogisticRegressionCV(cv = 10).fit(features, labels)\n",
    "\n",
    "search_rates = model.predict_proba(features)[:,1]\n",
    "\n",
    "# Append the search rates\n",
    "df['search_rates'] = search_rates\n",
    "\n",
    "# Drop search_conducted, we don't need anymore\n",
    "df.drop('search_conducted', axis = 1, inplace = True)\n",
    "\n",
    "# Put the dates into datetime again\n",
    "df.date = df.date.map(dt.date.fromordinal)\n",
    "df.date = pd.to_datetime(df.date)"
   ]
  },
  {
   "cell_type": "code",
   "execution_count": 9,
   "metadata": {},
   "outputs": [
    {
     "data": {
      "text/html": [
       "<div>\n",
       "<style scoped>\n",
       "    .dataframe tbody tr th:only-of-type {\n",
       "        vertical-align: middle;\n",
       "    }\n",
       "\n",
       "    .dataframe tbody tr th {\n",
       "        vertical-align: top;\n",
       "    }\n",
       "\n",
       "    .dataframe thead th {\n",
       "        text-align: right;\n",
       "    }\n",
       "</style>\n",
       "<table border=\"1\" class=\"dataframe\">\n",
       "  <thead>\n",
       "    <tr style=\"text-align: right;\">\n",
       "      <th></th>\n",
       "      <th>date</th>\n",
       "      <th>subject_race</th>\n",
       "      <th>subject_sex</th>\n",
       "      <th>State</th>\n",
       "      <th>search_rates</th>\n",
       "    </tr>\n",
       "  </thead>\n",
       "  <tbody>\n",
       "    <tr>\n",
       "      <th>0</th>\n",
       "      <td>2014-02-15</td>\n",
       "      <td>white</td>\n",
       "      <td>male</td>\n",
       "      <td>AZ</td>\n",
       "      <td>0.033904</td>\n",
       "    </tr>\n",
       "    <tr>\n",
       "      <th>1</th>\n",
       "      <td>2014-10-08</td>\n",
       "      <td>white</td>\n",
       "      <td>female</td>\n",
       "      <td>AZ</td>\n",
       "      <td>0.023305</td>\n",
       "    </tr>\n",
       "    <tr>\n",
       "      <th>2</th>\n",
       "      <td>2014-02-12</td>\n",
       "      <td>white</td>\n",
       "      <td>female</td>\n",
       "      <td>AZ</td>\n",
       "      <td>0.023329</td>\n",
       "    </tr>\n",
       "    <tr>\n",
       "      <th>3</th>\n",
       "      <td>2013-10-18</td>\n",
       "      <td>white</td>\n",
       "      <td>male</td>\n",
       "      <td>AZ</td>\n",
       "      <td>0.033922</td>\n",
       "    </tr>\n",
       "    <tr>\n",
       "      <th>4</th>\n",
       "      <td>2014-02-28</td>\n",
       "      <td>black</td>\n",
       "      <td>female</td>\n",
       "      <td>AZ</td>\n",
       "      <td>0.033558</td>\n",
       "    </tr>\n",
       "  </tbody>\n",
       "</table>\n",
       "</div>"
      ],
      "text/plain": [
       "        date subject_race subject_sex State  search_rates\n",
       "0 2014-02-15        white        male    AZ      0.033904\n",
       "1 2014-10-08        white      female    AZ      0.023305\n",
       "2 2014-02-12        white      female    AZ      0.023329\n",
       "3 2013-10-18        white        male    AZ      0.033922\n",
       "4 2014-02-28        black      female    AZ      0.033558"
      ]
     },
     "execution_count": 9,
     "metadata": {},
     "output_type": "execute_result"
    }
   ],
   "source": [
    "df.head()"
   ]
  },
  {
   "cell_type": "code",
   "execution_count": 10,
   "metadata": {},
   "outputs": [],
   "source": [
    "df.to_csv('data_search_rates', index = False)"
   ]
  },
  {
   "cell_type": "code",
   "execution_count": 11,
   "metadata": {},
   "outputs": [],
   "source": [
    "df = pd.read_csv('data_search_rates')"
   ]
  },
  {
   "cell_type": "code",
   "execution_count": 12,
   "metadata": {},
   "outputs": [
    {
     "data": {
      "text/html": [
       "<div>\n",
       "<style scoped>\n",
       "    .dataframe tbody tr th:only-of-type {\n",
       "        vertical-align: middle;\n",
       "    }\n",
       "\n",
       "    .dataframe tbody tr th {\n",
       "        vertical-align: top;\n",
       "    }\n",
       "\n",
       "    .dataframe thead th {\n",
       "        text-align: right;\n",
       "    }\n",
       "</style>\n",
       "<table border=\"1\" class=\"dataframe\">\n",
       "  <thead>\n",
       "    <tr style=\"text-align: right;\">\n",
       "      <th></th>\n",
       "      <th>date</th>\n",
       "      <th>subject_race</th>\n",
       "      <th>subject_sex</th>\n",
       "      <th>State</th>\n",
       "      <th>search_rates</th>\n",
       "    </tr>\n",
       "  </thead>\n",
       "  <tbody>\n",
       "    <tr>\n",
       "      <th>0</th>\n",
       "      <td>2014-02-15</td>\n",
       "      <td>white</td>\n",
       "      <td>male</td>\n",
       "      <td>AZ</td>\n",
       "      <td>0.033904</td>\n",
       "    </tr>\n",
       "    <tr>\n",
       "      <th>1</th>\n",
       "      <td>2014-10-08</td>\n",
       "      <td>white</td>\n",
       "      <td>female</td>\n",
       "      <td>AZ</td>\n",
       "      <td>0.023305</td>\n",
       "    </tr>\n",
       "    <tr>\n",
       "      <th>2</th>\n",
       "      <td>2014-02-12</td>\n",
       "      <td>white</td>\n",
       "      <td>female</td>\n",
       "      <td>AZ</td>\n",
       "      <td>0.023329</td>\n",
       "    </tr>\n",
       "    <tr>\n",
       "      <th>3</th>\n",
       "      <td>2013-10-18</td>\n",
       "      <td>white</td>\n",
       "      <td>male</td>\n",
       "      <td>AZ</td>\n",
       "      <td>0.033922</td>\n",
       "    </tr>\n",
       "    <tr>\n",
       "      <th>4</th>\n",
       "      <td>2014-02-28</td>\n",
       "      <td>black</td>\n",
       "      <td>female</td>\n",
       "      <td>AZ</td>\n",
       "      <td>0.033558</td>\n",
       "    </tr>\n",
       "  </tbody>\n",
       "</table>\n",
       "</div>"
      ],
      "text/plain": [
       "         date subject_race subject_sex State  search_rates\n",
       "0  2014-02-15        white        male    AZ      0.033904\n",
       "1  2014-10-08        white      female    AZ      0.023305\n",
       "2  2014-02-12        white      female    AZ      0.023329\n",
       "3  2013-10-18        white        male    AZ      0.033922\n",
       "4  2014-02-28        black      female    AZ      0.033558"
      ]
     },
     "execution_count": 12,
     "metadata": {},
     "output_type": "execute_result"
    }
   ],
   "source": [
    "df.head()"
   ]
  },
  {
   "cell_type": "code",
   "execution_count": 63,
   "metadata": {},
   "outputs": [],
   "source": [
    "def bootstrap(df,n_boots=1000):\n",
    "    \n",
    "    relative_black = []\n",
    "    relative_hispanic = []\n",
    "    \n",
    "    for n in range(n_boots):\n",
    "        \n",
    "        inds = np.random.randint(df.shape[0], size = (df.shape[0]))\n",
    "        sample = df.iloc[inds]\n",
    "        \n",
    "        white_mean = sample[sample.subject_race == 'white']['search_rates'].mean()\n",
    "        hispanic_mean = sample[sample.subject_race == 'hispanic']['search_rates'].mean()\n",
    "        black_mean = sample[sample.subject_race == 'black']['search_rates'].mean()\n",
    "        \n",
    "        relative_black.append(black_mean/white_mean)\n",
    "        relative_hispanic.append(hispanic_mean/white_mean)\n",
    "        \n",
    "    CI_black = [np.percentile(relative_black,2.5), np.percentile(relative_black, 97.5)]\n",
    "    CI_hispanic = [np.percentile(relative_hispanic, 2.5), np.percentile(relative_hispanic, 97.5)]\n",
    "    \n",
    "    return CI_black, CI_hispanic"
   ]
  },
  {
   "cell_type": "markdown",
   "metadata": {},
   "source": [
    "Compute the relative biases and confidence intervals"
   ]
  },
  {
   "cell_type": "code",
   "execution_count": 65,
   "metadata": {},
   "outputs": [
    {
     "name": "stdout",
     "output_type": "stream",
     "text": [
      "State: AZ over.\n",
      "State: SC over.\n",
      "State: TX over.\n",
      "State: CA over.\n",
      "State: CT over.\n",
      "State: IL over.\n"
     ]
    }
   ],
   "source": [
    "biases = pd.DataFrame([], columns = ['state', 'subject_race','relative_diff', 'CI'])\n",
    "\n",
    "for state in States:\n",
    "    \n",
    "    df_state = df[df.State==state]\n",
    "    \n",
    "    black_mean = df_state[df_state.subject_race=='black']['search_rates'].mean()\n",
    "    hispanic_mean = df_state[df_state.subject_race=='hispanic']['search_rates'].mean()\n",
    "    white_mean = df_state[df_state.subject_race=='white']['search_rates'].mean()\n",
    "    \n",
    "    relative_diff_black = black_mean/white_mean\n",
    "    relative_diff_hispanic = hispanic_mean/white_mean\n",
    "    \n",
    "    CI_black, CI_hispanic = bootstrap(df_state)\n",
    "    \n",
    "    df_black = pd.DataFrame([[state, 'black', relative_diff_black, CI_black]], columns = ['state', 'subject_race','relative_diff', 'CI'])\n",
    "    biases = pd.concat((biases, df_black))\n",
    "    df_hispanic = pd.DataFrame([[state, 'hispanic', relative_diff_hispanic, CI_hispanic]], columns = ['state', 'subject_race','relative_diff', 'CI'])\n",
    "    biases = pd.concat((biases, df_hispanic))\n",
    "    \n",
    "    print('State: {} over.'.format(state))"
   ]
  },
  {
   "cell_type": "code",
   "execution_count": 66,
   "metadata": {},
   "outputs": [],
   "source": [
    "biases.to_csv('biases')"
   ]
  },
  {
   "cell_type": "code",
   "execution_count": 67,
   "metadata": {},
   "outputs": [
    {
     "data": {
      "text/html": [
       "<div>\n",
       "<style scoped>\n",
       "    .dataframe tbody tr th:only-of-type {\n",
       "        vertical-align: middle;\n",
       "    }\n",
       "\n",
       "    .dataframe tbody tr th {\n",
       "        vertical-align: top;\n",
       "    }\n",
       "\n",
       "    .dataframe thead th {\n",
       "        text-align: right;\n",
       "    }\n",
       "</style>\n",
       "<table border=\"1\" class=\"dataframe\">\n",
       "  <thead>\n",
       "    <tr style=\"text-align: right;\">\n",
       "      <th></th>\n",
       "      <th>state</th>\n",
       "      <th>subject_race</th>\n",
       "      <th>relative_diff</th>\n",
       "      <th>CI</th>\n",
       "    </tr>\n",
       "  </thead>\n",
       "  <tbody>\n",
       "    <tr>\n",
       "      <th>0</th>\n",
       "      <td>AZ</td>\n",
       "      <td>black</td>\n",
       "      <td>1.445845</td>\n",
       "      <td>[1.4424584669154359, 1.4491364287762771]</td>\n",
       "    </tr>\n",
       "    <tr>\n",
       "      <th>0</th>\n",
       "      <td>AZ</td>\n",
       "      <td>hispanic</td>\n",
       "      <td>1.484722</td>\n",
       "      <td>[1.4829187837616873, 1.4864896855940988]</td>\n",
       "    </tr>\n",
       "    <tr>\n",
       "      <th>0</th>\n",
       "      <td>SC</td>\n",
       "      <td>black</td>\n",
       "      <td>1.414314</td>\n",
       "      <td>[1.4124291530991908, 1.4161660842156472]</td>\n",
       "    </tr>\n",
       "    <tr>\n",
       "      <th>0</th>\n",
       "      <td>SC</td>\n",
       "      <td>hispanic</td>\n",
       "      <td>1.522622</td>\n",
       "      <td>[1.5190053946400175, 1.52633659612304]</td>\n",
       "    </tr>\n",
       "    <tr>\n",
       "      <th>0</th>\n",
       "      <td>TX</td>\n",
       "      <td>black</td>\n",
       "      <td>1.434514</td>\n",
       "      <td>[1.4316742397040834, 1.4373660685307215]</td>\n",
       "    </tr>\n",
       "    <tr>\n",
       "      <th>0</th>\n",
       "      <td>TX</td>\n",
       "      <td>hispanic</td>\n",
       "      <td>1.484842</td>\n",
       "      <td>[1.483123064273616, 1.4865698986400924]</td>\n",
       "    </tr>\n",
       "    <tr>\n",
       "      <th>0</th>\n",
       "      <td>CA</td>\n",
       "      <td>black</td>\n",
       "      <td>1.422590</td>\n",
       "      <td>[1.4196813202149765, 1.4255039750780636]</td>\n",
       "    </tr>\n",
       "    <tr>\n",
       "      <th>0</th>\n",
       "      <td>CA</td>\n",
       "      <td>hispanic</td>\n",
       "      <td>1.494318</td>\n",
       "      <td>[1.492644982909862, 1.4961178912623818]</td>\n",
       "    </tr>\n",
       "    <tr>\n",
       "      <th>0</th>\n",
       "      <td>CT</td>\n",
       "      <td>black</td>\n",
       "      <td>1.451763</td>\n",
       "      <td>[1.4492703795733226, 1.4544917698203454]</td>\n",
       "    </tr>\n",
       "    <tr>\n",
       "      <th>0</th>\n",
       "      <td>CT</td>\n",
       "      <td>hispanic</td>\n",
       "      <td>1.494124</td>\n",
       "      <td>[1.4913994682202418, 1.496827688890967]</td>\n",
       "    </tr>\n",
       "    <tr>\n",
       "      <th>0</th>\n",
       "      <td>IL</td>\n",
       "      <td>black</td>\n",
       "      <td>1.430097</td>\n",
       "      <td>[1.4277575386208385, 1.4323350929290442]</td>\n",
       "    </tr>\n",
       "    <tr>\n",
       "      <th>0</th>\n",
       "      <td>IL</td>\n",
       "      <td>hispanic</td>\n",
       "      <td>1.502295</td>\n",
       "      <td>[1.4998883481323029, 1.5050377416475227]</td>\n",
       "    </tr>\n",
       "  </tbody>\n",
       "</table>\n",
       "</div>"
      ],
      "text/plain": [
       "  state subject_race  relative_diff                                        CI\n",
       "0    AZ        black       1.445845  [1.4424584669154359, 1.4491364287762771]\n",
       "0    AZ     hispanic       1.484722  [1.4829187837616873, 1.4864896855940988]\n",
       "0    SC        black       1.414314  [1.4124291530991908, 1.4161660842156472]\n",
       "0    SC     hispanic       1.522622    [1.5190053946400175, 1.52633659612304]\n",
       "0    TX        black       1.434514  [1.4316742397040834, 1.4373660685307215]\n",
       "0    TX     hispanic       1.484842   [1.483123064273616, 1.4865698986400924]\n",
       "0    CA        black       1.422590  [1.4196813202149765, 1.4255039750780636]\n",
       "0    CA     hispanic       1.494318   [1.492644982909862, 1.4961178912623818]\n",
       "0    CT        black       1.451763  [1.4492703795733226, 1.4544917698203454]\n",
       "0    CT     hispanic       1.494124   [1.4913994682202418, 1.496827688890967]\n",
       "0    IL        black       1.430097  [1.4277575386208385, 1.4323350929290442]\n",
       "0    IL     hispanic       1.502295  [1.4998883481323029, 1.5050377416475227]"
      ]
     },
     "execution_count": 67,
     "metadata": {},
     "output_type": "execute_result"
    }
   ],
   "source": [
    "biases"
   ]
  },
  {
   "cell_type": "code",
   "execution_count": 68,
   "metadata": {},
   "outputs": [],
   "source": [
    "black = biases[biases.subject_race=='black']\n",
    "hispanic = biases[biases.subject_race=='hispanic']"
   ]
  },
  {
   "cell_type": "code",
   "execution_count": 111,
   "metadata": {},
   "outputs": [
    {
     "data": {
      "text/plain": [
       "Text(0.5, 1.0, 'Hispanic')"
      ]
     },
     "execution_count": 111,
     "metadata": {},
     "output_type": "execute_result"
    },
    {
     "data": {
      "image/png": "[encoded data removed]",
      "text/plain": [
       "<Figure size 1440x360 with 2 Axes>"
      ]
     },
     "metadata": {
      "needs_background": "light"
     },
     "output_type": "display_data"
    }
   ],
   "source": [
    "fig, axs = plt.subplots(1,2, figsize = (20,5))\n",
    "\n",
    "sns.scatterplot(data = black, x = 'relative_diff', y = range(6), ax = axs[0])\n",
    "for i in range(6):\n",
    "    axs[0].plot([black.CI.iloc[i][0], black.CI.iloc[i][1]], [i,i], alpha = 0.5, color = 'k')\n",
    "axs[0].set_yticks(range(6))\n",
    "axs[0].set_yticklabels(States)\n",
    "axs[0].set_title('Black')\n",
    "\n",
    "sns.scatterplot(data = hispanic, x = 'relative_diff', y = range(6), ax = axs[1])\n",
    "for i in range(6):\n",
    "    axs[1].plot([hispanic.CI.iloc[i][0], hispanic.CI.iloc[i][1]], [i,i], alpha = 0.5, color = 'k')\n",
    "axs[1].set_yticks(range(6)) \n",
    "axs[1].set_yticklabels(States)\n",
    "axs[1].set_title('Hispanic')"
   ]
  }
 ],
 "metadata": {
  "kernelspec": {
   "display_name": "Python 3",
   "language": "python",
   "name": "python3"
  },
  "language_info": {
   "codemirror_mode": {
    "name": "ipython",
    "version": 3
   },
   "file_extension": ".py",
   "mimetype": "text/x-python",
   "name": "python",
   "nbconvert_exporter": "python",
   "pygments_lexer": "ipython3",
   "version": "3.8.5"
  }
 },
 "nbformat": 4,
 "nbformat_minor": 4
}
