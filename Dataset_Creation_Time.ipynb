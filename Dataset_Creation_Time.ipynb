{
 "cells": [
  {
   "cell_type": "code",
   "execution_count": 3,
   "metadata": {},
   "outputs": [],
   "source": [
    "import os\n",
    "import pandas as pd\n",
    "import numpy as np\n",
    "import datetime as dt\n",
    "import warnings\n",
    "import sklearn.linear_model as lm\n",
    "import statsmodels.formula.api as smf\n",
    "import seaborn as sns\n",
    "import matplotlib.pyplot as plt\n",
    "warnings.filterwarnings('ignore')"
   ]
  },
  {
   "cell_type": "markdown",
   "metadata": {},
   "source": [
    "In order to make the dataset, the raw data must be in a directory 'Not_Zip' and named with its state name, e.g. 'Not_Zip/AZ.csv' for Arizona"
   ]
  },
  {
   "cell_type": "markdown",
   "metadata": {},
   "source": [
    "### States to keep:\n",
    "\n",
    "Republicans: \n",
    "1. Arizona (3.5 million)\n",
    "2. Texas (27 million)\n",
    "\n",
    "Democrats:\n",
    "1. Illinois (13 million)\n",
    "2. Washington (11 million)\n",
    "\n",
    "### Features to take:\n",
    "1. Date\n",
    "2. Race\n",
    "3. Sex\n",
    "\n",
    "Take 500 000 datapoint per set -> we end with a dataset with roughly 2 million datapoints"
   ]
  },
  {
   "cell_type": "code",
   "execution_count": 4,
   "metadata": {},
   "outputs": [],
   "source": [
    "PATH = 'Not_Zip/'\n",
    "cols_to_use = ['date','subject_race', 'subject_sex', 'search_conducted']\n",
    "States = ['AZ', 'TX', 'IL', 'WA']\n",
    "number_subsamples = 500000"
   ]
  },
  {
   "cell_type": "code",
   "execution_count": 5,
   "metadata": {},
   "outputs": [
    {
     "name": "stdout",
     "output_type": "stream",
     "text": [
      "Min_date = 2012-01-01 00:00:00, Max_date = 2016-12-31 00:00:00\n"
     ]
    }
   ],
   "source": [
    "# Get the biggest time range for which all datasets contains values\n",
    "min_date = dt.datetime(1900,1,1)\n",
    "max_date = dt.datetime(2030,1,1)\n",
    "\n",
    "for state in States:\n",
    "    \n",
    "    df = pd.read_csv(PATH + state + '.csv', usecols = cols_to_use)\n",
    "    df.dropna(inplace = True)\n",
    "    df.date = pd.to_datetime(df.date)\n",
    "    df_min_date = df.date.min()\n",
    "    df_max_date = df.date.max()\n",
    "    \n",
    "    if df_min_date > min_date:\n",
    "        min_date = df_min_date\n",
    "    \n",
    "    if df_max_date < max_date:\n",
    "        max_date = df_max_date\n",
    "\n",
    "print('Min_date = {}, Max_date = {}'.format(min_date, max_date))    "
   ]
  },
  {
   "cell_type": "code",
   "execution_count": 6,
   "metadata": {},
   "outputs": [
    {
     "name": "stdout",
     "output_type": "stream",
     "text": [
      "State AZ processed.\n",
      "State TX processed.\n",
      "State IL processed.\n",
      "State WA processed.\n"
     ]
    }
   ],
   "source": [
    "df = pd.DataFrame([], columns = ['date', 'subject_race', 'subject_sex', 'search_conducted', 'State', 'Partisanship'])\n",
    "republicans = ['TX', 'AZ']\n",
    "for state in States:\n",
    "    \n",
    "    # Get the dataset with only the desired columns\n",
    "    df_state = pd.read_csv(PATH + state + '.csv', usecols = cols_to_use)\n",
    "    \n",
    "    # Drop nan values\n",
    "    df_state.dropna(inplace = True)\n",
    "    \n",
    "    # Only keep Hispanic, Black and White drivers\n",
    "    df_state = df_state.iloc[[x in ['hispanic', 'black', 'white'] for x in df_state.subject_race]]\n",
    "    \n",
    "    # Keep only data in the good time range\n",
    "    df_state.date = pd.to_datetime(df_state.date)\n",
    "    df_state = df_state[(df_state.date > min_date) & (df_state.date < max_date)]\n",
    "    \n",
    "    # Randomly create indices of the datapoints to keep\n",
    "    inds = np.random.permutation(range(df_state.shape[0]))[:number_subsamples]\n",
    "    \n",
    "    # Keep only the subsample\n",
    "    df_state = df_state.iloc[inds]\n",
    "    \n",
    "    # Append the state so that we know where the datapoints come from\n",
    "    df_state['State'] = df_state.date.apply(lambda x: state)\n",
    "    df_state['Partisanship'] = df_state.State.apply(lambda x: 'R' if x in republicans else 'D')\n",
    "    \n",
    "    # Concatenate with the final dataset\n",
    "    df = pd.concat((df, df_state))\n",
    "    \n",
    "    del df_state\n",
    "    \n",
    "    print('State {} processed.'.format(state))"
   ]
  },
  {
   "cell_type": "code",
   "execution_count": 7,
   "metadata": {},
   "outputs": [],
   "source": [
    "df.to_csv('data_time.csv', index = False)"
   ]
  },
  {
   "cell_type": "code",
   "execution_count": 8,
   "metadata": {},
   "outputs": [],
   "source": [
    "df = pd.read_csv('data.csv')"
   ]
  },
  {
   "cell_type": "code",
   "execution_count": 9,
   "metadata": {},
   "outputs": [
    {
     "data": {
      "text/html": [
       "<div>\n",
       "<style scoped>\n",
       "    .dataframe tbody tr th:only-of-type {\n",
       "        vertical-align: middle;\n",
       "    }\n",
       "\n",
       "    .dataframe tbody tr th {\n",
       "        vertical-align: top;\n",
       "    }\n",
       "\n",
       "    .dataframe thead th {\n",
       "        text-align: right;\n",
       "    }\n",
       "</style>\n",
       "<table border=\"1\" class=\"dataframe\">\n",
       "  <thead>\n",
       "    <tr style=\"text-align: right;\">\n",
       "      <th></th>\n",
       "      <th>date</th>\n",
       "      <th>subject_race</th>\n",
       "      <th>subject_sex</th>\n",
       "      <th>search_conducted</th>\n",
       "      <th>State</th>\n",
       "      <th>Partisanship</th>\n",
       "    </tr>\n",
       "  </thead>\n",
       "  <tbody>\n",
       "    <tr>\n",
       "      <th>0</th>\n",
       "      <td>2014-02-05</td>\n",
       "      <td>white</td>\n",
       "      <td>male</td>\n",
       "      <td>False</td>\n",
       "      <td>AZ</td>\n",
       "      <td>R</td>\n",
       "    </tr>\n",
       "    <tr>\n",
       "      <th>1</th>\n",
       "      <td>2014-01-31</td>\n",
       "      <td>hispanic</td>\n",
       "      <td>male</td>\n",
       "      <td>False</td>\n",
       "      <td>AZ</td>\n",
       "      <td>R</td>\n",
       "    </tr>\n",
       "    <tr>\n",
       "      <th>2</th>\n",
       "      <td>2014-02-02</td>\n",
       "      <td>white</td>\n",
       "      <td>female</td>\n",
       "      <td>False</td>\n",
       "      <td>AZ</td>\n",
       "      <td>R</td>\n",
       "    </tr>\n",
       "    <tr>\n",
       "      <th>3</th>\n",
       "      <td>2014-05-25</td>\n",
       "      <td>hispanic</td>\n",
       "      <td>male</td>\n",
       "      <td>False</td>\n",
       "      <td>AZ</td>\n",
       "      <td>R</td>\n",
       "    </tr>\n",
       "    <tr>\n",
       "      <th>4</th>\n",
       "      <td>2015-05-01</td>\n",
       "      <td>white</td>\n",
       "      <td>male</td>\n",
       "      <td>False</td>\n",
       "      <td>AZ</td>\n",
       "      <td>R</td>\n",
       "    </tr>\n",
       "  </tbody>\n",
       "</table>\n",
       "</div>"
      ],
      "text/plain": [
       "         date subject_race subject_sex  search_conducted State Partisanship\n",
       "0  2014-02-05        white        male             False    AZ            R\n",
       "1  2014-01-31     hispanic        male             False    AZ            R\n",
       "2  2014-02-02        white      female             False    AZ            R\n",
       "3  2014-05-25     hispanic        male             False    AZ            R\n",
       "4  2015-05-01        white        male             False    AZ            R"
      ]
     },
     "execution_count": 9,
     "metadata": {},
     "output_type": "execute_result"
    }
   ],
   "source": [
    "df.head()"
   ]
  }
 ],
 "metadata": {
  "kernelspec": {
   "display_name": "Python 3",
   "language": "python",
   "name": "python3"
  },
  "language_info": {
   "codemirror_mode": {
    "name": "ipython",
    "version": 3
   },
   "file_extension": ".py",
   "mimetype": "text/x-python",
   "name": "python",
   "nbconvert_exporter": "python",
   "pygments_lexer": "ipython3",
   "version": "3.8.5"
  }
 },
 "nbformat": 4,
 "nbformat_minor": 4
}
