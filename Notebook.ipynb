{
 "cells": [
  {
   "cell_type": "code",
   "execution_count": 46,
   "metadata": {},
   "outputs": [],
   "source": [
    "import os\n",
    "import pandas as pd\n",
    "import numpy as np\n",
    "import datetime as dt\n",
    "import warnings\n",
    "import sklearn.linear_model as lm\n",
    "import statsmodels.formula.api as smf\n",
    "import seaborn as sns\n",
    "import matplotlib.pyplot as plt\n",
    "warnings.filterwarnings('ignore')"
   ]
  },
  {
   "cell_type": "markdown",
   "metadata": {},
   "source": [
    "# Make the logistic Regression to get the search rates (no interaction term)"
   ]
  },
  {
   "cell_type": "code",
   "execution_count": 47,
   "metadata": {},
   "outputs": [],
   "source": [
    "def compute_search_rates(df_, formula):\n",
    "    \n",
    "    df = df_.copy()\n",
    "    # First we transform the datetime to ordinal values\n",
    "    df.date = pd.to_datetime(df.date)\n",
    "    df.date = df.date.map(dt.datetime.toordinal)\n",
    "\n",
    "    # Standardize date\n",
    "    date_mean = df.date.mean()\n",
    "    date_std = df.date.std()\n",
    "    df.date = (df.date - date_mean) / date_std\n",
    "\n",
    "    # Make search_conducted be 0 or 1\n",
    "    df.search_conducted =  df.search_conducted.astype(int)\n",
    "\n",
    "    # Compute the search rates using a logistic regression\n",
    "\n",
    "    model = smf.logit(formula = formula, data = df).fit()\n",
    "\n",
    "    search_rates = model.predict()\n",
    "    \n",
    "    return search_rates, model"
   ]
  },
  {
   "cell_type": "code",
   "execution_count": 48,
   "metadata": {},
   "outputs": [
    {
     "name": "stdout",
     "output_type": "stream",
     "text": [
      "Optimization terminated successfully.\n",
      "         Current function value: 0.150392\n",
      "         Iterations 8\n"
     ]
    }
   ],
   "source": [
    "df = pd.read_csv('data.csv')\n",
    "\n",
    "search_rates, _ = compute_search_rates(df, 'search_conducted ~ date + C(subject_race) + C(Partisanship) + C(subject_sex)')\n",
    "\n",
    "# Append the search rates\n",
    "df['search_rates'] = search_rates\n",
    "\n",
    "# Drop search_conducted, we don't need anymore\n",
    "df.drop('search_conducted', axis = 1, inplace = True)"
   ]
  },
  {
   "cell_type": "code",
   "execution_count": 49,
   "metadata": {},
   "outputs": [
    {
     "data": {
      "text/html": [
       "<div>\n",
       "<style scoped>\n",
       "    .dataframe tbody tr th:only-of-type {\n",
       "        vertical-align: middle;\n",
       "    }\n",
       "\n",
       "    .dataframe tbody tr th {\n",
       "        vertical-align: top;\n",
       "    }\n",
       "\n",
       "    .dataframe thead th {\n",
       "        text-align: right;\n",
       "    }\n",
       "</style>\n",
       "<table border=\"1\" class=\"dataframe\">\n",
       "  <thead>\n",
       "    <tr style=\"text-align: right;\">\n",
       "      <th></th>\n",
       "      <th>date</th>\n",
       "      <th>subject_race</th>\n",
       "      <th>subject_sex</th>\n",
       "      <th>State</th>\n",
       "      <th>Partisanship</th>\n",
       "      <th>search_rates</th>\n",
       "    </tr>\n",
       "  </thead>\n",
       "  <tbody>\n",
       "    <tr>\n",
       "      <th>0</th>\n",
       "      <td>2014-02-05</td>\n",
       "      <td>white</td>\n",
       "      <td>male</td>\n",
       "      <td>AZ</td>\n",
       "      <td>R</td>\n",
       "      <td>0.027264</td>\n",
       "    </tr>\n",
       "    <tr>\n",
       "      <th>1</th>\n",
       "      <td>2014-01-31</td>\n",
       "      <td>hispanic</td>\n",
       "      <td>male</td>\n",
       "      <td>AZ</td>\n",
       "      <td>R</td>\n",
       "      <td>0.046384</td>\n",
       "    </tr>\n",
       "    <tr>\n",
       "      <th>2</th>\n",
       "      <td>2014-02-02</td>\n",
       "      <td>white</td>\n",
       "      <td>female</td>\n",
       "      <td>AZ</td>\n",
       "      <td>R</td>\n",
       "      <td>0.016356</td>\n",
       "    </tr>\n",
       "    <tr>\n",
       "      <th>3</th>\n",
       "      <td>2014-05-25</td>\n",
       "      <td>hispanic</td>\n",
       "      <td>male</td>\n",
       "      <td>AZ</td>\n",
       "      <td>R</td>\n",
       "      <td>0.045369</td>\n",
       "    </tr>\n",
       "    <tr>\n",
       "      <th>4</th>\n",
       "      <td>2015-05-01</td>\n",
       "      <td>white</td>\n",
       "      <td>male</td>\n",
       "      <td>AZ</td>\n",
       "      <td>R</td>\n",
       "      <td>0.024938</td>\n",
       "    </tr>\n",
       "  </tbody>\n",
       "</table>\n",
       "</div>"
      ],
      "text/plain": [
       "         date subject_race subject_sex State Partisanship  search_rates\n",
       "0  2014-02-05        white        male    AZ            R      0.027264\n",
       "1  2014-01-31     hispanic        male    AZ            R      0.046384\n",
       "2  2014-02-02        white      female    AZ            R      0.016356\n",
       "3  2014-05-25     hispanic        male    AZ            R      0.045369\n",
       "4  2015-05-01        white        male    AZ            R      0.024938"
      ]
     },
     "execution_count": 49,
     "metadata": {},
     "output_type": "execute_result"
    }
   ],
   "source": [
    "df.head()"
   ]
  },
  {
   "cell_type": "code",
   "execution_count": 50,
   "metadata": {},
   "outputs": [],
   "source": [
    "df.to_csv('data_search_rates_no_interac.csv', index = False)"
   ]
  },
  {
   "cell_type": "code",
   "execution_count": 51,
   "metadata": {},
   "outputs": [],
   "source": [
    "df = pd.read_csv('data_search_rates_no_interac.csv')"
   ]
  },
  {
   "cell_type": "markdown",
   "metadata": {},
   "source": [
    "# Make the logistic Regression to get the search rates (with interaction term)"
   ]
  },
  {
   "cell_type": "code",
   "execution_count": 52,
   "metadata": {},
   "outputs": [
    {
     "name": "stdout",
     "output_type": "stream",
     "text": [
      "Optimization terminated successfully.\n",
      "         Current function value: 0.150300\n",
      "         Iterations 8\n"
     ]
    }
   ],
   "source": [
    "df = pd.read_csv('data.csv')\n",
    "\n",
    "search_rates, _ = compute_search_rates(df, 'search_conducted ~ date + C(subject_race):C(Partisanship) + C(subject_sex)')\n",
    "\n",
    "# Append the search rates\n",
    "df['search_rates'] = search_rates\n",
    "\n",
    "# Drop search_conducted, we don't need anymore\n",
    "df.drop('search_conducted', axis = 1, inplace = True)"
   ]
  },
  {
   "cell_type": "code",
   "execution_count": 55,
   "metadata": {},
   "outputs": [
    {
     "data": {
      "text/html": [
       "<div>\n",
       "<style scoped>\n",
       "    .dataframe tbody tr th:only-of-type {\n",
       "        vertical-align: middle;\n",
       "    }\n",
       "\n",
       "    .dataframe tbody tr th {\n",
       "        vertical-align: top;\n",
       "    }\n",
       "\n",
       "    .dataframe thead th {\n",
       "        text-align: right;\n",
       "    }\n",
       "</style>\n",
       "<table border=\"1\" class=\"dataframe\">\n",
       "  <thead>\n",
       "    <tr style=\"text-align: right;\">\n",
       "      <th></th>\n",
       "      <th>date</th>\n",
       "      <th>subject_race</th>\n",
       "      <th>subject_sex</th>\n",
       "      <th>State</th>\n",
       "      <th>Partisanship</th>\n",
       "      <th>search_rates</th>\n",
       "    </tr>\n",
       "  </thead>\n",
       "  <tbody>\n",
       "    <tr>\n",
       "      <th>0</th>\n",
       "      <td>2014-02-05</td>\n",
       "      <td>white</td>\n",
       "      <td>male</td>\n",
       "      <td>AZ</td>\n",
       "      <td>R</td>\n",
       "      <td>0.028441</td>\n",
       "    </tr>\n",
       "    <tr>\n",
       "      <th>1</th>\n",
       "      <td>2014-01-31</td>\n",
       "      <td>hispanic</td>\n",
       "      <td>male</td>\n",
       "      <td>AZ</td>\n",
       "      <td>R</td>\n",
       "      <td>0.048639</td>\n",
       "    </tr>\n",
       "    <tr>\n",
       "      <th>2</th>\n",
       "      <td>2014-02-02</td>\n",
       "      <td>white</td>\n",
       "      <td>female</td>\n",
       "      <td>AZ</td>\n",
       "      <td>R</td>\n",
       "      <td>0.017085</td>\n",
       "    </tr>\n",
       "    <tr>\n",
       "      <th>3</th>\n",
       "      <td>2014-05-25</td>\n",
       "      <td>hispanic</td>\n",
       "      <td>male</td>\n",
       "      <td>AZ</td>\n",
       "      <td>R</td>\n",
       "      <td>0.047571</td>\n",
       "    </tr>\n",
       "    <tr>\n",
       "      <th>4</th>\n",
       "      <td>2015-05-01</td>\n",
       "      <td>white</td>\n",
       "      <td>male</td>\n",
       "      <td>AZ</td>\n",
       "      <td>R</td>\n",
       "      <td>0.026005</td>\n",
       "    </tr>\n",
       "  </tbody>\n",
       "</table>\n",
       "</div>"
      ],
      "text/plain": [
       "         date subject_race subject_sex State Partisanship  search_rates\n",
       "0  2014-02-05        white        male    AZ            R      0.028441\n",
       "1  2014-01-31     hispanic        male    AZ            R      0.048639\n",
       "2  2014-02-02        white      female    AZ            R      0.017085\n",
       "3  2014-05-25     hispanic        male    AZ            R      0.047571\n",
       "4  2015-05-01        white        male    AZ            R      0.026005"
      ]
     },
     "execution_count": 55,
     "metadata": {},
     "output_type": "execute_result"
    }
   ],
   "source": [
    "df.head()"
   ]
  },
  {
   "cell_type": "code",
   "execution_count": 56,
   "metadata": {},
   "outputs": [],
   "source": [
    "df.to_csv('data_search_rates_interac.csv', index = False)"
   ]
  },
  {
   "cell_type": "markdown",
   "metadata": {},
   "source": [
    "# Biases with interaction term"
   ]
  },
  {
   "cell_type": "code",
   "execution_count": null,
   "metadata": {},
   "outputs": [],
   "source": [
    "df = pd.read_csv('data_search_rates_interac.csv')"
   ]
  },
  {
   "cell_type": "code",
   "execution_count": 43,
   "metadata": {},
   "outputs": [],
   "source": [
    "def bootstrap(df,n_boots=1000):\n",
    "    \n",
    "    relative_black = []\n",
    "    relative_hispanic = []\n",
    "    \n",
    "    for n in range(n_boots):\n",
    "        \n",
    "        inds = np.random.randint(df.shape[0], size = (df.shape[0]))\n",
    "        sample = df.iloc[inds]\n",
    "        \n",
    "        white_mean = sample[sample.subject_race == 'white']['search_rates'].mean()\n",
    "        hispanic_mean = sample[sample.subject_race == 'hispanic']['search_rates'].mean()\n",
    "        black_mean = sample[sample.subject_race == 'black']['search_rates'].mean()\n",
    "        \n",
    "        relative_black.append(black_mean/white_mean)\n",
    "        relative_hispanic.append(hispanic_mean/white_mean)\n",
    "        \n",
    "    CI_black = [np.percentile(relative_black,2.5), np.percentile(relative_black, 97.5)]\n",
    "    CI_hispanic = [np.percentile(relative_hispanic, 2.5), np.percentile(relative_hispanic, 97.5)]\n",
    "    \n",
    "    return CI_black, CI_hispanic"
   ]
  },
  {
   "cell_type": "markdown",
   "metadata": {},
   "source": [
    "Compute the relative biases and confidence intervals"
   ]
  },
  {
   "cell_type": "code",
   "execution_count": 44,
   "metadata": {},
   "outputs": [
    {
     "name": "stdout",
     "output_type": "stream",
     "text": [
      "State: AZ over.\n",
      "State: SC over.\n",
      "State: TX over.\n",
      "State: CA over.\n",
      "State: CT over.\n",
      "State: IL over.\n"
     ]
    }
   ],
   "source": [
    "biases = pd.DataFrame([], columns = ['state', 'subject_race','relative_diff', 'CI'])\n",
    "\n",
    "for state in States:\n",
    "    \n",
    "    df_state = df[df.State==state]\n",
    "    \n",
    "    black_mean = df_state[df_state.subject_race=='black']['search_rates'].mean()\n",
    "    hispanic_mean = df_state[df_state.subject_race=='hispanic']['search_rates'].mean()\n",
    "    white_mean = df_state[df_state.subject_race=='white']['search_rates'].mean()\n",
    "    \n",
    "    relative_diff_black = black_mean/white_mean\n",
    "    relative_diff_hispanic = hispanic_mean/white_mean\n",
    "    \n",
    "    CI_black, CI_hispanic = bootstrap(df_state)\n",
    "    \n",
    "    df_black = pd.DataFrame([[state, 'black', relative_diff_black, CI_black]], columns = ['state', 'subject_race','relative_diff', 'CI'])\n",
    "    biases = pd.concat((biases, df_black))\n",
    "    df_hispanic = pd.DataFrame([[state, 'hispanic', relative_diff_hispanic, CI_hispanic]], columns = ['state', 'subject_race','relative_diff', 'CI'])\n",
    "    biases = pd.concat((biases, df_hispanic))\n",
    "    \n",
    "    print('State: {} over.'.format(state))"
   ]
  },
  {
   "cell_type": "code",
   "execution_count": 45,
   "metadata": {},
   "outputs": [],
   "source": [
    "biases.to_csv('biases_interac.csv', index = False)"
   ]
  },
  {
   "cell_type": "code",
   "execution_count": 46,
   "metadata": {},
   "outputs": [
    {
     "data": {
      "text/html": [
       "<div>\n",
       "<style scoped>\n",
       "    .dataframe tbody tr th:only-of-type {\n",
       "        vertical-align: middle;\n",
       "    }\n",
       "\n",
       "    .dataframe tbody tr th {\n",
       "        vertical-align: top;\n",
       "    }\n",
       "\n",
       "    .dataframe thead th {\n",
       "        text-align: right;\n",
       "    }\n",
       "</style>\n",
       "<table border=\"1\" class=\"dataframe\">\n",
       "  <thead>\n",
       "    <tr style=\"text-align: right;\">\n",
       "      <th></th>\n",
       "      <th>state</th>\n",
       "      <th>subject_race</th>\n",
       "      <th>relative_diff</th>\n",
       "      <th>CI</th>\n",
       "    </tr>\n",
       "  </thead>\n",
       "  <tbody>\n",
       "    <tr>\n",
       "      <th>0</th>\n",
       "      <td>AZ</td>\n",
       "      <td>black</td>\n",
       "      <td>1.597026</td>\n",
       "      <td>[1.591955955398065, 1.6017058058517164]</td>\n",
       "    </tr>\n",
       "    <tr>\n",
       "      <th>0</th>\n",
       "      <td>AZ</td>\n",
       "      <td>hispanic</td>\n",
       "      <td>1.754986</td>\n",
       "      <td>[1.7519431138572046, 1.7578577876988242]</td>\n",
       "    </tr>\n",
       "    <tr>\n",
       "      <th>0</th>\n",
       "      <td>SC</td>\n",
       "      <td>black</td>\n",
       "      <td>1.553272</td>\n",
       "      <td>[1.5504996295188096, 1.5559987154761608]</td>\n",
       "    </tr>\n",
       "    <tr>\n",
       "      <th>0</th>\n",
       "      <td>SC</td>\n",
       "      <td>hispanic</td>\n",
       "      <td>1.814590</td>\n",
       "      <td>[1.8085287804103758, 1.8207836299846443]</td>\n",
       "    </tr>\n",
       "    <tr>\n",
       "      <th>0</th>\n",
       "      <td>TX</td>\n",
       "      <td>black</td>\n",
       "      <td>1.583151</td>\n",
       "      <td>[1.578956359311796, 1.5874995417643034]</td>\n",
       "    </tr>\n",
       "    <tr>\n",
       "      <th>0</th>\n",
       "      <td>TX</td>\n",
       "      <td>hispanic</td>\n",
       "      <td>1.745863</td>\n",
       "      <td>[1.7429431482867364, 1.7487734732299058]</td>\n",
       "    </tr>\n",
       "    <tr>\n",
       "      <th>0</th>\n",
       "      <td>CA</td>\n",
       "      <td>black</td>\n",
       "      <td>2.169497</td>\n",
       "      <td>[2.1637206733522656, 2.175249412476498]</td>\n",
       "    </tr>\n",
       "    <tr>\n",
       "      <th>0</th>\n",
       "      <td>CA</td>\n",
       "      <td>hispanic</td>\n",
       "      <td>1.732018</td>\n",
       "      <td>[1.72926238698631, 1.7348436144193453]</td>\n",
       "    </tr>\n",
       "    <tr>\n",
       "      <th>0</th>\n",
       "      <td>CT</td>\n",
       "      <td>black</td>\n",
       "      <td>2.227593</td>\n",
       "      <td>[2.222741043582298, 2.2329035290281194]</td>\n",
       "    </tr>\n",
       "    <tr>\n",
       "      <th>0</th>\n",
       "      <td>CT</td>\n",
       "      <td>hispanic</td>\n",
       "      <td>1.731416</td>\n",
       "      <td>[1.7274246159192794, 1.7357775373087905]</td>\n",
       "    </tr>\n",
       "    <tr>\n",
       "      <th>0</th>\n",
       "      <td>IL</td>\n",
       "      <td>black</td>\n",
       "      <td>2.183945</td>\n",
       "      <td>[2.1794484767610407, 2.1887659218228217]</td>\n",
       "    </tr>\n",
       "    <tr>\n",
       "      <th>0</th>\n",
       "      <td>IL</td>\n",
       "      <td>hispanic</td>\n",
       "      <td>1.746573</td>\n",
       "      <td>[1.7426772858300017, 1.7505682799965185]</td>\n",
       "    </tr>\n",
       "  </tbody>\n",
       "</table>\n",
       "</div>"
      ],
      "text/plain": [
       "  state subject_race  relative_diff                                        CI\n",
       "0    AZ        black       1.597026   [1.591955955398065, 1.6017058058517164]\n",
       "0    AZ     hispanic       1.754986  [1.7519431138572046, 1.7578577876988242]\n",
       "0    SC        black       1.553272  [1.5504996295188096, 1.5559987154761608]\n",
       "0    SC     hispanic       1.814590  [1.8085287804103758, 1.8207836299846443]\n",
       "0    TX        black       1.583151   [1.578956359311796, 1.5874995417643034]\n",
       "0    TX     hispanic       1.745863  [1.7429431482867364, 1.7487734732299058]\n",
       "0    CA        black       2.169497   [2.1637206733522656, 2.175249412476498]\n",
       "0    CA     hispanic       1.732018    [1.72926238698631, 1.7348436144193453]\n",
       "0    CT        black       2.227593   [2.222741043582298, 2.2329035290281194]\n",
       "0    CT     hispanic       1.731416  [1.7274246159192794, 1.7357775373087905]\n",
       "0    IL        black       2.183945  [2.1794484767610407, 2.1887659218228217]\n",
       "0    IL     hispanic       1.746573  [1.7426772858300017, 1.7505682799965185]"
      ]
     },
     "execution_count": 46,
     "metadata": {},
     "output_type": "execute_result"
    }
   ],
   "source": [
    "biases"
   ]
  },
  {
   "cell_type": "code",
   "execution_count": 47,
   "metadata": {},
   "outputs": [],
   "source": [
    "black = biases[biases.subject_race=='black']\n",
    "hispanic = biases[biases.subject_race=='hispanic']"
   ]
  },
  {
   "cell_type": "code",
   "execution_count": 48,
   "metadata": {},
   "outputs": [
    {
     "data": {
      "text/plain": [
       "Text(0.5, 1.0, 'Hispanic')"
      ]
     },
     "execution_count": 48,
     "metadata": {},
     "output_type": "execute_result"
    },
    {
     "data": {
      "image/png": "[encoded data removed]",
      "text/plain": [
       "<Figure size 1440x360 with 2 Axes>"
      ]
     },
     "metadata": {
      "needs_background": "light"
     },
     "output_type": "display_data"
    }
   ],
   "source": [
    "fig, axs = plt.subplots(1,2, figsize = (20,5))\n",
    "\n",
    "sns.scatterplot(data = black, x = 'relative_diff', y = range(6), ax = axs[0])\n",
    "for i in range(6):\n",
    "    axs[0].plot([black.CI.iloc[i][0], black.CI.iloc[i][1]], [i,i], alpha = 0.5, color = 'k')\n",
    "axs[0].set_yticks(range(6))\n",
    "axs[0].set_yticklabels(States)\n",
    "axs[0].set_title('Black')\n",
    "\n",
    "sns.scatterplot(data = hispanic, x = 'relative_diff', y = range(6), ax = axs[1])\n",
    "for i in range(6):\n",
    "    axs[1].plot([hispanic.CI.iloc[i][0], hispanic.CI.iloc[i][1]], [i,i], alpha = 0.5, color = 'k')\n",
    "axs[1].set_yticks(range(6)) \n",
    "axs[1].set_yticklabels(States)\n",
    "axs[1].set_title('Hispanic')"
   ]
  },
  {
   "cell_type": "markdown",
   "metadata": {},
   "source": [
    "# Biases without interaction term"
   ]
  },
  {
   "cell_type": "code",
   "execution_count": 35,
   "metadata": {},
   "outputs": [],
   "source": [
    "df = pd.read_csv('data_search_rates_no_interac.csv')"
   ]
  },
  {
   "cell_type": "code",
   "execution_count": 36,
   "metadata": {},
   "outputs": [],
   "source": [
    "def bootstrap(df,n_boots=1000):\n",
    "    \n",
    "    relative_black = []\n",
    "    relative_hispanic = []\n",
    "    \n",
    "    for n in range(n_boots):\n",
    "        \n",
    "        inds = np.random.randint(df.shape[0], size = (df.shape[0]))\n",
    "        sample = df.iloc[inds]\n",
    "        \n",
    "        white_mean = sample[sample.subject_race == 'white']['search_rates'].mean()\n",
    "        hispanic_mean = sample[sample.subject_race == 'hispanic']['search_rates'].mean()\n",
    "        black_mean = sample[sample.subject_race == 'black']['search_rates'].mean()\n",
    "        \n",
    "        relative_black.append(black_mean/white_mean)\n",
    "        relative_hispanic.append(hispanic_mean/white_mean)\n",
    "        \n",
    "    CI_black = [np.percentile(relative_black,2.5), np.percentile(relative_black, 97.5)]\n",
    "    CI_hispanic = [np.percentile(relative_hispanic, 2.5), np.percentile(relative_hispanic, 97.5)]\n",
    "    \n",
    "    return CI_black, CI_hispanic"
   ]
  },
  {
   "cell_type": "markdown",
   "metadata": {},
   "source": [
    "Compute the relative biases and confidence intervals"
   ]
  },
  {
   "cell_type": "code",
   "execution_count": 37,
   "metadata": {},
   "outputs": [
    {
     "name": "stdout",
     "output_type": "stream",
     "text": [
      "State: AZ over.\n",
      "State: SC over.\n",
      "State: TX over.\n",
      "State: CA over.\n",
      "State: CT over.\n",
      "State: IL over.\n"
     ]
    }
   ],
   "source": [
    "biases = pd.DataFrame([], columns = ['state', 'subject_race','relative_diff', 'CI'])\n",
    "\n",
    "for state in States:\n",
    "    \n",
    "    df_state = df[df.State==state]\n",
    "    \n",
    "    black_mean = df_state[df_state.subject_race=='black']['search_rates'].mean()\n",
    "    hispanic_mean = df_state[df_state.subject_race=='hispanic']['search_rates'].mean()\n",
    "    white_mean = df_state[df_state.subject_race=='white']['search_rates'].mean()\n",
    "    \n",
    "    relative_diff_black = black_mean/white_mean\n",
    "    relative_diff_hispanic = hispanic_mean/white_mean\n",
    "    \n",
    "    CI_black, CI_hispanic = bootstrap(df_state)\n",
    "    \n",
    "    df_black = pd.DataFrame([[state, 'black', relative_diff_black, CI_black]], columns = ['state', 'subject_race','relative_diff', 'CI'])\n",
    "    biases = pd.concat((biases, df_black))\n",
    "    df_hispanic = pd.DataFrame([[state, 'hispanic', relative_diff_hispanic, CI_hispanic]], columns = ['state', 'subject_race','relative_diff', 'CI'])\n",
    "    biases = pd.concat((biases, df_hispanic))\n",
    "    \n",
    "    print('State: {} over.'.format(state))"
   ]
  },
  {
   "cell_type": "code",
   "execution_count": 38,
   "metadata": {},
   "outputs": [],
   "source": [
    "biases.to_csv('biases_no_interac.csv', index = False)"
   ]
  },
  {
   "cell_type": "code",
   "execution_count": 39,
   "metadata": {},
   "outputs": [
    {
     "data": {
      "text/html": [
       "<div>\n",
       "<style scoped>\n",
       "    .dataframe tbody tr th:only-of-type {\n",
       "        vertical-align: middle;\n",
       "    }\n",
       "\n",
       "    .dataframe tbody tr th {\n",
       "        vertical-align: top;\n",
       "    }\n",
       "\n",
       "    .dataframe thead th {\n",
       "        text-align: right;\n",
       "    }\n",
       "</style>\n",
       "<table border=\"1\" class=\"dataframe\">\n",
       "  <thead>\n",
       "    <tr style=\"text-align: right;\">\n",
       "      <th></th>\n",
       "      <th>state</th>\n",
       "      <th>subject_race</th>\n",
       "      <th>relative_diff</th>\n",
       "      <th>CI</th>\n",
       "    </tr>\n",
       "  </thead>\n",
       "  <tbody>\n",
       "    <tr>\n",
       "      <th>0</th>\n",
       "      <td>AZ</td>\n",
       "      <td>black</td>\n",
       "      <td>1.937162</td>\n",
       "      <td>[1.9313695233882777, 1.942932851118813]</td>\n",
       "    </tr>\n",
       "    <tr>\n",
       "      <th>0</th>\n",
       "      <td>AZ</td>\n",
       "      <td>hispanic</td>\n",
       "      <td>1.745773</td>\n",
       "      <td>[1.7430739930969334, 1.7487209594142017]</td>\n",
       "    </tr>\n",
       "    <tr>\n",
       "      <th>0</th>\n",
       "      <td>SC</td>\n",
       "      <td>black</td>\n",
       "      <td>1.884378</td>\n",
       "      <td>[1.8812148073468788, 1.8874288001402189]</td>\n",
       "    </tr>\n",
       "    <tr>\n",
       "      <th>0</th>\n",
       "      <td>SC</td>\n",
       "      <td>hispanic</td>\n",
       "      <td>1.805241</td>\n",
       "      <td>[1.7996460270973562, 1.8111376040918425]</td>\n",
       "    </tr>\n",
       "    <tr>\n",
       "      <th>0</th>\n",
       "      <td>TX</td>\n",
       "      <td>black</td>\n",
       "      <td>1.920475</td>\n",
       "      <td>[1.9152393120934115, 1.9257210688671733]</td>\n",
       "    </tr>\n",
       "    <tr>\n",
       "      <th>0</th>\n",
       "      <td>TX</td>\n",
       "      <td>hispanic</td>\n",
       "      <td>1.736714</td>\n",
       "      <td>[1.73401814428349, 1.7396108249156126]</td>\n",
       "    </tr>\n",
       "    <tr>\n",
       "      <th>0</th>\n",
       "      <td>CA</td>\n",
       "      <td>black</td>\n",
       "      <td>1.883365</td>\n",
       "      <td>[1.8782070416505676, 1.8884897711542186]</td>\n",
       "    </tr>\n",
       "    <tr>\n",
       "      <th>0</th>\n",
       "      <td>CA</td>\n",
       "      <td>hispanic</td>\n",
       "      <td>1.747579</td>\n",
       "      <td>[1.7449510382835394, 1.750468575098264]</td>\n",
       "    </tr>\n",
       "    <tr>\n",
       "      <th>0</th>\n",
       "      <td>CT</td>\n",
       "      <td>black</td>\n",
       "      <td>1.933837</td>\n",
       "      <td>[1.9295001889112067, 1.9383586775322368]</td>\n",
       "    </tr>\n",
       "    <tr>\n",
       "      <th>0</th>\n",
       "      <td>CT</td>\n",
       "      <td>hispanic</td>\n",
       "      <td>1.747025</td>\n",
       "      <td>[1.7429202095170186, 1.7510792768811374]</td>\n",
       "    </tr>\n",
       "    <tr>\n",
       "      <th>0</th>\n",
       "      <td>IL</td>\n",
       "      <td>black</td>\n",
       "      <td>1.895611</td>\n",
       "      <td>[1.8916452158180908, 1.8994767150712315]</td>\n",
       "    </tr>\n",
       "    <tr>\n",
       "      <th>0</th>\n",
       "      <td>IL</td>\n",
       "      <td>hispanic</td>\n",
       "      <td>1.762308</td>\n",
       "      <td>[1.7581033054301995, 1.76602486896547]</td>\n",
       "    </tr>\n",
       "  </tbody>\n",
       "</table>\n",
       "</div>"
      ],
      "text/plain": [
       "  state subject_race  relative_diff                                        CI\n",
       "0    AZ        black       1.937162   [1.9313695233882777, 1.942932851118813]\n",
       "0    AZ     hispanic       1.745773  [1.7430739930969334, 1.7487209594142017]\n",
       "0    SC        black       1.884378  [1.8812148073468788, 1.8874288001402189]\n",
       "0    SC     hispanic       1.805241  [1.7996460270973562, 1.8111376040918425]\n",
       "0    TX        black       1.920475  [1.9152393120934115, 1.9257210688671733]\n",
       "0    TX     hispanic       1.736714    [1.73401814428349, 1.7396108249156126]\n",
       "0    CA        black       1.883365  [1.8782070416505676, 1.8884897711542186]\n",
       "0    CA     hispanic       1.747579   [1.7449510382835394, 1.750468575098264]\n",
       "0    CT        black       1.933837  [1.9295001889112067, 1.9383586775322368]\n",
       "0    CT     hispanic       1.747025  [1.7429202095170186, 1.7510792768811374]\n",
       "0    IL        black       1.895611  [1.8916452158180908, 1.8994767150712315]\n",
       "0    IL     hispanic       1.762308    [1.7581033054301995, 1.76602486896547]"
      ]
     },
     "execution_count": 39,
     "metadata": {},
     "output_type": "execute_result"
    }
   ],
   "source": [
    "biases"
   ]
  },
  {
   "cell_type": "code",
   "execution_count": 40,
   "metadata": {},
   "outputs": [],
   "source": [
    "black = biases[biases.subject_race=='black']\n",
    "hispanic = biases[biases.subject_race=='hispanic']"
   ]
  },
  {
   "cell_type": "code",
   "execution_count": 41,
   "metadata": {},
   "outputs": [
    {
     "data": {
      "text/plain": [
       "Text(0.5, 1.0, 'Hispanic')"
      ]
     },
     "execution_count": 41,
     "metadata": {},
     "output_type": "execute_result"
    },
    {
     "data": {
      "image/png": "[encoded data removed]",
      "text/plain": [
       "<Figure size 1440x360 with 2 Axes>"
      ]
     },
     "metadata": {
      "needs_background": "light"
     },
     "output_type": "display_data"
    }
   ],
   "source": [
    "fig, axs = plt.subplots(1,2, figsize = (20,5))\n",
    "\n",
    "sns.scatterplot(data = black, x = 'relative_diff', y = range(6), ax = axs[0])\n",
    "for i in range(6):\n",
    "    axs[0].plot([black.CI.iloc[i][0], black.CI.iloc[i][1]], [i,i], alpha = 0.5, color = 'k')\n",
    "axs[0].set_yticks(range(6))\n",
    "axs[0].set_yticklabels(States)\n",
    "axs[0].set_title('Black')\n",
    "\n",
    "sns.scatterplot(data = hispanic, x = 'relative_diff', y = range(6), ax = axs[1])\n",
    "for i in range(6):\n",
    "    axs[1].plot([hispanic.CI.iloc[i][0], hispanic.CI.iloc[i][1]], [i,i], alpha = 0.5, color = 'k')\n",
    "axs[1].set_yticks(range(6)) \n",
    "axs[1].set_yticklabels(States)\n",
    "axs[1].set_title('Hispanic')"
   ]
  },
  {
   "cell_type": "code",
   "execution_count": null,
   "metadata": {},
   "outputs": [],
   "source": []
  }
 ],
 "metadata": {
  "kernelspec": {
   "display_name": "Python 3",
   "language": "python",
   "name": "python3"
  },
  "language_info": {
   "codemirror_mode": {
    "name": "ipython",
    "version": 3
   },
   "file_extension": ".py",
   "mimetype": "text/x-python",
   "name": "python",
   "nbconvert_exporter": "python",
   "pygments_lexer": "ipython3",
   "version": "3.8.5"
  }
 },
 "nbformat": 4,
 "nbformat_minor": 4
}
