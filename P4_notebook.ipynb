{
 "cells": [
  {
   "cell_type": "markdown",
   "metadata": {},
   "source": [
    "#### Libraries"
   ]
  },
  {
   "cell_type": "code",
   "execution_count": 5,
   "metadata": {},
   "outputs": [],
   "source": [
    "import pandas as pd"
   ]
  },
  {
   "cell_type": "markdown",
   "metadata": {},
   "source": [
    "#### Download raw datas\n",
    "The datas are aquired from *The Stanford Open Policing Project* at https://openpolicing.stanford.edu/data/\n",
    "Due to the size of the data, we downloaded the data once and stored it in pickle format for faster reuse."
   ]
  },
  {
   "cell_type": "code",
   "execution_count": null,
   "metadata": {},
   "outputs": [],
   "source": [
    "# All url links\n",
    "data_url_AZ = 'https://stacks.stanford.edu/file/druid:yg821jf8611/yg821jf8611_az_statewide_2020_04_01.csv.zip'\n",
    "data_url_IL = 'https://stacks.stanford.edu/file/druid:yg821jf8611/yg821jf8611_il_statewide_2020_04_01.csv.zip'\n",
    "data_url_CT = 'https://stacks.stanford.edu/file/druid:yg821jf8611/yg821jf8611_ct_statewide_2020_04_01.csv.zip'\n",
    "data_url_CA = 'https://stacks.stanford.edu/file/druid:yg821jf8611/yg821jf8611_ca_statewide_2020_04_01.csv.zip'\n",
    "data_url_SC = 'https://stacks.stanford.edu/file/druid:yg821jf8611/yg821jf8611_sc_statewide_2020_04_01.csv.zip'\n",
    "data_url_TX = 'https://stacks.stanford.edu/file/druid:yg821jf8611/yg821jf8611_tx_statewide_2020_04_01.csv.zip'\n",
    "data_url_WA = 'https://stacks.stanford.edu/file/druid:yg821jf8611/yg821jf8611_wa_statewide_2020_04_01.csv.zip'\n",
    "\n",
    "# Initiate lists for iteration\n",
    "urls = [url_AZ, url_IL, url_CT, url_CA, url_SC, url_TX, url_WA]\n",
    "filenames = ['df_AZ.p', 'df_IL.p', 'df_CT.p', 'df_CA.p', 'df_SC.p', 'df_TX.p', 'df_WA.p']"
   ]
  },
  {
   "cell_type": "code",
   "execution_count": null,
   "metadata": {},
   "outputs": [],
   "source": [
    "def load_data_to_pickle(data_url, filename):\n",
    "    '''\n",
    "    Load the data from internet and stores it in your folder as a pickle\n",
    "    To read pickle : pd.read_pickle(filename)\n",
    "    Input : data_url -> url to the big data\n",
    "    '''\n",
    "    # Load data (can take some time)\n",
    "    df = pd.read_csv(data_url, compression='zip')\n",
    "    \n",
    "    # Save to pickle format\n",
    "    df.to_pickle(filename)\n",
    "    \n",
    "    # Informative print\n",
    "    print('pickle-rick reporting for duty')"
   ]
  },
  {
   "cell_type": "code",
   "execution_count": null,
   "metadata": {},
   "outputs": [],
   "source": [
    "for url, filename in zip(urls, filenames):\n",
    "    load_data_to_pickle(url, filename)"
   ]
  }
 ],
 "metadata": {
  "kernelspec": {
   "display_name": "Python [conda env:ada] *",
   "language": "python",
   "name": "conda-env-ada-py"
  },
  "language_info": {
   "codemirror_mode": {
    "name": "ipython",
    "version": 3
   },
   "file_extension": ".py",
   "mimetype": "text/x-python",
   "name": "python",
   "nbconvert_exporter": "python",
   "pygments_lexer": "ipython3",
   "version": "3.8.5"
  }
 },
 "nbformat": 4,
 "nbformat_minor": 4
}
