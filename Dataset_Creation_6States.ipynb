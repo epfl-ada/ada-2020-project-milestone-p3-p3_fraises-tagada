{
 "cells": [
  {
   "cell_type": "code",
   "execution_count": 1,
   "metadata": {},
   "outputs": [],
   "source": [
    "import os\n",
    "import pandas as pd\n",
    "import numpy as np\n",
    "import datetime as dt\n",
    "import warnings\n",
    "import sklearn.linear_model as lm\n",
    "import statsmodels.formula.api as smf\n",
    "import seaborn as sns\n",
    "import matplotlib.pyplot as plt\n",
    "warnings.filterwarnings('ignore')"
   ]
  },
  {
   "cell_type": "markdown",
   "metadata": {},
   "source": [
    "In order to make the dataset, the raw data must be in a directory 'Not_Zip' and named with its state name, e.g. 'Not_Zip/AZ.csv' for Arizona"
   ]
  },
  {
   "cell_type": "markdown",
   "metadata": {},
   "source": [
    "### States to keep:\n",
    "\n",
    "Republicans: \n",
    "1. Arizona (3.5 million)\n",
    "2. Ohio (7.2 million) -> discarded\n",
    "3. South Carolina (9 million)\n",
    "4. Texas (27 million)\n",
    "\n",
    "Democrats:\n",
    "1. California (32 million)\n",
    "2. Connecticut (1 million)\n",
    "3. Illinois (13 million)\n",
    "4. Rhode Island (510 000) -> discarded\n",
    "\n",
    "### Features to take:\n",
    "1. Date\n",
    "2. Race\n",
    "3. Sex\n",
    "\n",
    "Take 300 000 datapoint per set -> we end with a dataset with roughly 2 million datapoints"
   ]
  },
  {
   "cell_type": "code",
   "execution_count": 2,
   "metadata": {},
   "outputs": [],
   "source": [
    "PATH = 'Not_Zip/'\n",
    "cols_to_use = ['date','subject_race', 'subject_sex', 'search_conducted']\n",
    "States = ['AZ', 'SC', 'TX', 'CA', 'CT', 'IL']\n",
    "number_subsamples = 300000"
   ]
  },
  {
   "cell_type": "code",
   "execution_count": 3,
   "metadata": {},
   "outputs": [
    {
     "name": "stdout",
     "output_type": "stream",
     "text": [
      "Min_date = 2013-10-01 00:00:00, Max_date = 2015-10-01 00:00:00\n"
     ]
    }
   ],
   "source": [
    "# Get the biggest time range for which all datasets contains values\n",
    "min_date = dt.datetime(1900,1,1)\n",
    "max_date = dt.datetime(2030,1,1)\n",
    "\n",
    "for state in States:\n",
    "    \n",
    "    df = pd.read_csv(PATH + state + '.csv', usecols = cols_to_use)\n",
    "    df.dropna(inplace = True)\n",
    "    df.date = pd.to_datetime(df.date)\n",
    "    df_min_date = df.date.min()\n",
    "    df_max_date = df.date.max()\n",
    "    \n",
    "    if df_min_date > min_date:\n",
    "        min_date = df_min_date\n",
    "    \n",
    "    if df_max_date < max_date:\n",
    "        max_date = df_max_date\n",
    "\n",
    "print('Min_date = {}, Max_date = {}'.format(min_date, max_date))    "
   ]
  },
  {
   "cell_type": "code",
   "execution_count": 4,
   "metadata": {},
   "outputs": [
    {
     "name": "stdout",
     "output_type": "stream",
     "text": [
      "State AZ processed.\n",
      "State SC processed.\n",
      "State TX processed.\n",
      "State CA processed.\n",
      "State CT processed.\n",
      "State IL processed.\n"
     ]
    }
   ],
   "source": [
    "df = pd.DataFrame([], columns = ['date', 'subject_race', 'subject_sex', 'search_conducted', 'State', 'Partisanship'])\n",
    "republicans = ['TX', 'SC', 'AZ']\n",
    "for state in States:\n",
    "    \n",
    "    # Get the dataset with only the desired columns\n",
    "    df_state = pd.read_csv(PATH + state + '.csv', usecols = cols_to_use)\n",
    "    \n",
    "    # Drop nan values\n",
    "    df_state.dropna(inplace = True)\n",
    "    \n",
    "    # Only keep Hispanic, Black and White drivers\n",
    "    df_state = df_state.iloc[[x in ['hispanic', 'black', 'white'] for x in df_state.subject_race]]\n",
    "    \n",
    "    # Keep only data in the good time range\n",
    "    df_state.date = pd.to_datetime(df_state.date)\n",
    "    df_state = df_state[(df_state.date > min_date) & (df_state.date < max_date)]\n",
    "    \n",
    "    # Randomly create indices of the datapoints to keep\n",
    "    inds = np.random.permutation(range(df_state.shape[0]))[:number_subsamples]\n",
    "    \n",
    "    # Keep only the subsample\n",
    "    df_state = df_state.iloc[inds]\n",
    "    \n",
    "    # Append the state so that we know where the datapoints come from\n",
    "    df_state['State'] = df_state.date.apply(lambda x: state)\n",
    "    df_state['Partisanship'] = df_state.State.apply(lambda x: 'R' if x in republicans else 'D')\n",
    "    \n",
    "    # Concatenate with the final dataset\n",
    "    df = pd.concat((df, df_state))\n",
    "    \n",
    "    del df_state\n",
    "    \n",
    "    print('State {} processed.'.format(state))"
   ]
  },
  {
   "cell_type": "code",
   "execution_count": 5,
   "metadata": {},
   "outputs": [],
   "source": [
    "df.to_csv('data.csv', index = False)"
   ]
  },
  {
   "cell_type": "code",
   "execution_count": 4,
   "metadata": {},
   "outputs": [],
   "source": [
    "df = pd.read_csv('data.csv')"
   ]
  },
  {
   "cell_type": "code",
   "execution_count": 5,
   "metadata": {},
   "outputs": [
    {
     "data": {
      "text/html": [
       "<div>\n",
       "<style scoped>\n",
       "    .dataframe tbody tr th:only-of-type {\n",
       "        vertical-align: middle;\n",
       "    }\n",
       "\n",
       "    .dataframe tbody tr th {\n",
       "        vertical-align: top;\n",
       "    }\n",
       "\n",
       "    .dataframe thead th {\n",
       "        text-align: right;\n",
       "    }\n",
       "</style>\n",
       "<table border=\"1\" class=\"dataframe\">\n",
       "  <thead>\n",
       "    <tr style=\"text-align: right;\">\n",
       "      <th></th>\n",
       "      <th>date</th>\n",
       "      <th>subject_race</th>\n",
       "      <th>subject_sex</th>\n",
       "      <th>search_conducted</th>\n",
       "      <th>State</th>\n",
       "      <th>Partisanship</th>\n",
       "    </tr>\n",
       "  </thead>\n",
       "  <tbody>\n",
       "    <tr>\n",
       "      <th>0</th>\n",
       "      <td>2014-02-05</td>\n",
       "      <td>white</td>\n",
       "      <td>male</td>\n",
       "      <td>False</td>\n",
       "      <td>AZ</td>\n",
       "      <td>R</td>\n",
       "    </tr>\n",
       "    <tr>\n",
       "      <th>1</th>\n",
       "      <td>2014-01-31</td>\n",
       "      <td>hispanic</td>\n",
       "      <td>male</td>\n",
       "      <td>False</td>\n",
       "      <td>AZ</td>\n",
       "      <td>R</td>\n",
       "    </tr>\n",
       "    <tr>\n",
       "      <th>2</th>\n",
       "      <td>2014-02-02</td>\n",
       "      <td>white</td>\n",
       "      <td>female</td>\n",
       "      <td>False</td>\n",
       "      <td>AZ</td>\n",
       "      <td>R</td>\n",
       "    </tr>\n",
       "    <tr>\n",
       "      <th>3</th>\n",
       "      <td>2014-05-25</td>\n",
       "      <td>hispanic</td>\n",
       "      <td>male</td>\n",
       "      <td>False</td>\n",
       "      <td>AZ</td>\n",
       "      <td>R</td>\n",
       "    </tr>\n",
       "    <tr>\n",
       "      <th>4</th>\n",
       "      <td>2015-05-01</td>\n",
       "      <td>white</td>\n",
       "      <td>male</td>\n",
       "      <td>False</td>\n",
       "      <td>AZ</td>\n",
       "      <td>R</td>\n",
       "    </tr>\n",
       "  </tbody>\n",
       "</table>\n",
       "</div>"
      ],
      "text/plain": [
       "         date subject_race subject_sex  search_conducted State Partisanship\n",
       "0  2014-02-05        white        male             False    AZ            R\n",
       "1  2014-01-31     hispanic        male             False    AZ            R\n",
       "2  2014-02-02        white      female             False    AZ            R\n",
       "3  2014-05-25     hispanic        male             False    AZ            R\n",
       "4  2015-05-01        white        male             False    AZ            R"
      ]
     },
     "execution_count": 5,
     "metadata": {},
     "output_type": "execute_result"
    }
   ],
   "source": [
    "df.head()"
   ]
  },
  {
   "cell_type": "markdown",
   "metadata": {},
   "source": [
    "# Count number of stops per state and per race"
   ]
  },
  {
   "cell_type": "code",
   "execution_count": 2,
   "metadata": {},
   "outputs": [],
   "source": [
    "PATH = 'Not_Zip/'\n",
    "cols_to_use = ['date','subject_race', 'subject_sex', 'search_conducted']\n",
    "States = ['AZ', 'SC', 'TX', 'CA', 'CT', 'IL']\n",
    "number_subsamples = 300000"
   ]
  },
  {
   "cell_type": "code",
   "execution_count": 3,
   "metadata": {},
   "outputs": [],
   "source": [
    "min_date = dt.datetime(2013,10,1)\n",
    "max_date  =dt.datetime(2015,10,1)"
   ]
  },
  {
   "cell_type": "code",
   "execution_count": 4,
   "metadata": {},
   "outputs": [],
   "source": [
    "df_count = pd.DataFrame([], columns = ['subject_race', 'State','date'])\n",
    "cols_to_use = ['subject_race', 'date']\n",
    "republicans = ['TX', 'SC', 'AZ']\n",
    "for state in States:\n",
    "    \n",
    "    df_state = pd.read_csv(PATH + state + '.csv', usecols = cols_to_use)\n",
    "\n",
    "    # Drop nan values\n",
    "    df_state.dropna(inplace = True)\n",
    "\n",
    "    # Only keep Hispanic, Black and White drivers\n",
    "    df_state = df_state.iloc[[x in ['hispanic', 'black', 'white'] for x in df_state.subject_race]]\n",
    "\n",
    "    # Keep only data in the good time range\n",
    "    df_state.date = pd.to_datetime(df_state.date)\n",
    "    df_state = df_state[(df_state.date > min_date) & (df_state.date < max_date)]\n",
    "\n",
    "    # Append the state so that we know where the datapoints come from\n",
    "    df_state['State'] = df_state.date.apply(lambda x: state)\n",
    "\n",
    "    df_count = pd.concat((df_count,df_state.groupby(['State', 'subject_race']).count()['date'].reset_index()))\n",
    "    \n",
    "df_count.columns = ['subject_race', 'State', 'count']"
   ]
  },
  {
   "cell_type": "code",
   "execution_count": 5,
   "metadata": {},
   "outputs": [
    {
     "data": {
      "text/html": [
       "<div>\n",
       "<style scoped>\n",
       "    .dataframe tbody tr th:only-of-type {\n",
       "        vertical-align: middle;\n",
       "    }\n",
       "\n",
       "    .dataframe tbody tr th {\n",
       "        vertical-align: top;\n",
       "    }\n",
       "\n",
       "    .dataframe thead th {\n",
       "        text-align: right;\n",
       "    }\n",
       "</style>\n",
       "<table border=\"1\" class=\"dataframe\">\n",
       "  <thead>\n",
       "    <tr style=\"text-align: right;\">\n",
       "      <th></th>\n",
       "      <th>subject_race</th>\n",
       "      <th>State</th>\n",
       "      <th>count</th>\n",
       "    </tr>\n",
       "  </thead>\n",
       "  <tbody>\n",
       "    <tr>\n",
       "      <th>0</th>\n",
       "      <td>black</td>\n",
       "      <td>AZ</td>\n",
       "      <td>57999</td>\n",
       "    </tr>\n",
       "    <tr>\n",
       "      <th>1</th>\n",
       "      <td>hispanic</td>\n",
       "      <td>AZ</td>\n",
       "      <td>261458</td>\n",
       "    </tr>\n",
       "    <tr>\n",
       "      <th>2</th>\n",
       "      <td>white</td>\n",
       "      <td>AZ</td>\n",
       "      <td>578846</td>\n",
       "    </tr>\n",
       "    <tr>\n",
       "      <th>0</th>\n",
       "      <td>black</td>\n",
       "      <td>SC</td>\n",
       "      <td>515716</td>\n",
       "    </tr>\n",
       "    <tr>\n",
       "      <th>1</th>\n",
       "      <td>hispanic</td>\n",
       "      <td>SC</td>\n",
       "      <td>63057</td>\n",
       "    </tr>\n",
       "    <tr>\n",
       "      <th>2</th>\n",
       "      <td>white</td>\n",
       "      <td>SC</td>\n",
       "      <td>892275</td>\n",
       "    </tr>\n",
       "    <tr>\n",
       "      <th>0</th>\n",
       "      <td>black</td>\n",
       "      <td>TX</td>\n",
       "      <td>356501</td>\n",
       "    </tr>\n",
       "    <tr>\n",
       "      <th>1</th>\n",
       "      <td>hispanic</td>\n",
       "      <td>TX</td>\n",
       "      <td>1326685</td>\n",
       "    </tr>\n",
       "    <tr>\n",
       "      <th>2</th>\n",
       "      <td>white</td>\n",
       "      <td>TX</td>\n",
       "      <td>1803647</td>\n",
       "    </tr>\n",
       "    <tr>\n",
       "      <th>0</th>\n",
       "      <td>black</td>\n",
       "      <td>CA</td>\n",
       "      <td>699019</td>\n",
       "    </tr>\n",
       "    <tr>\n",
       "      <th>1</th>\n",
       "      <td>hispanic</td>\n",
       "      <td>CA</td>\n",
       "      <td>2832129</td>\n",
       "    </tr>\n",
       "    <tr>\n",
       "      <th>2</th>\n",
       "      <td>white</td>\n",
       "      <td>CA</td>\n",
       "      <td>3542368</td>\n",
       "    </tr>\n",
       "    <tr>\n",
       "      <th>0</th>\n",
       "      <td>black</td>\n",
       "      <td>CT</td>\n",
       "      <td>161964</td>\n",
       "    </tr>\n",
       "    <tr>\n",
       "      <th>1</th>\n",
       "      <td>hispanic</td>\n",
       "      <td>CT</td>\n",
       "      <td>141450</td>\n",
       "    </tr>\n",
       "    <tr>\n",
       "      <th>2</th>\n",
       "      <td>white</td>\n",
       "      <td>CT</td>\n",
       "      <td>843282</td>\n",
       "    </tr>\n",
       "    <tr>\n",
       "      <th>0</th>\n",
       "      <td>black</td>\n",
       "      <td>IL</td>\n",
       "      <td>756076</td>\n",
       "    </tr>\n",
       "    <tr>\n",
       "      <th>1</th>\n",
       "      <td>hispanic</td>\n",
       "      <td>IL</td>\n",
       "      <td>523534</td>\n",
       "    </tr>\n",
       "    <tr>\n",
       "      <th>2</th>\n",
       "      <td>white</td>\n",
       "      <td>IL</td>\n",
       "      <td>2629639</td>\n",
       "    </tr>\n",
       "  </tbody>\n",
       "</table>\n",
       "</div>"
      ],
      "text/plain": [
       "  subject_race State    count\n",
       "0        black    AZ    57999\n",
       "1     hispanic    AZ   261458\n",
       "2        white    AZ   578846\n",
       "0        black    SC   515716\n",
       "1     hispanic    SC    63057\n",
       "2        white    SC   892275\n",
       "0        black    TX   356501\n",
       "1     hispanic    TX  1326685\n",
       "2        white    TX  1803647\n",
       "0        black    CA   699019\n",
       "1     hispanic    CA  2832129\n",
       "2        white    CA  3542368\n",
       "0        black    CT   161964\n",
       "1     hispanic    CT   141450\n",
       "2        white    CT   843282\n",
       "0        black    IL   756076\n",
       "1     hispanic    IL   523534\n",
       "2        white    IL  2629639"
      ]
     },
     "execution_count": 5,
     "metadata": {},
     "output_type": "execute_result"
    }
   ],
   "source": [
    "df_count"
   ]
  },
  {
   "cell_type": "code",
   "execution_count": 6,
   "metadata": {},
   "outputs": [],
   "source": [
    "df_count.to_csv('Number_Stops.csv')"
   ]
  },
  {
   "cell_type": "code",
   "execution_count": 76,
   "metadata": {},
   "outputs": [
    {
     "data": {
      "text/plain": [
       "<seaborn.axisgrid.FacetGrid at 0x21732acd400>"
      ]
     },
     "execution_count": 76,
     "metadata": {},
     "output_type": "execute_result"
    },
    {
     "data": {
      "image/png": "[encoded data removed]",
      "text/plain": [
       "<Figure size 409.75x360 with 1 Axes>"
      ]
     },
     "metadata": {
      "needs_background": "light"
     },
     "output_type": "display_data"
    }
   ],
   "source": [
    "sns.catplot(data = df_count, x = 'subject_race', y = 'count', kind = 'bar', hue = 'State')"
   ]
  },
  {
   "cell_type": "code",
   "execution_count": 93,
   "metadata": {},
   "outputs": [],
   "source": [
    "population = pd.DataFrame([('AZ', 6.7e6), ('SC', 4.8e6), ('TX',27e6), ('CA',38.5e6), ('CT',3.6e6), ('IL', 12.9e6)], columns = ['State', 'count'])"
   ]
  },
  {
   "cell_type": "code",
   "execution_count": 94,
   "metadata": {},
   "outputs": [
    {
     "data": {
      "text/html": [
       "<div>\n",
       "<style scoped>\n",
       "    .dataframe tbody tr th:only-of-type {\n",
       "        vertical-align: middle;\n",
       "    }\n",
       "\n",
       "    .dataframe tbody tr th {\n",
       "        vertical-align: top;\n",
       "    }\n",
       "\n",
       "    .dataframe thead th {\n",
       "        text-align: right;\n",
       "    }\n",
       "</style>\n",
       "<table border=\"1\" class=\"dataframe\">\n",
       "  <thead>\n",
       "    <tr style=\"text-align: right;\">\n",
       "      <th></th>\n",
       "      <th>State</th>\n",
       "      <th>count</th>\n",
       "    </tr>\n",
       "  </thead>\n",
       "  <tbody>\n",
       "    <tr>\n",
       "      <th>0</th>\n",
       "      <td>AZ</td>\n",
       "      <td>6700000.0</td>\n",
       "    </tr>\n",
       "    <tr>\n",
       "      <th>1</th>\n",
       "      <td>SC</td>\n",
       "      <td>4800000.0</td>\n",
       "    </tr>\n",
       "    <tr>\n",
       "      <th>2</th>\n",
       "      <td>TX</td>\n",
       "      <td>27000000.0</td>\n",
       "    </tr>\n",
       "    <tr>\n",
       "      <th>3</th>\n",
       "      <td>CA</td>\n",
       "      <td>38500000.0</td>\n",
       "    </tr>\n",
       "    <tr>\n",
       "      <th>4</th>\n",
       "      <td>CT</td>\n",
       "      <td>3600000.0</td>\n",
       "    </tr>\n",
       "    <tr>\n",
       "      <th>5</th>\n",
       "      <td>IL</td>\n",
       "      <td>12900000.0</td>\n",
       "    </tr>\n",
       "  </tbody>\n",
       "</table>\n",
       "</div>"
      ],
      "text/plain": [
       "  State       count\n",
       "0    AZ   6700000.0\n",
       "1    SC   4800000.0\n",
       "2    TX  27000000.0\n",
       "3    CA  38500000.0\n",
       "4    CT   3600000.0\n",
       "5    IL  12900000.0"
      ]
     },
     "execution_count": 94,
     "metadata": {},
     "output_type": "execute_result"
    }
   ],
   "source": [
    "population"
   ]
  }
 ],
 "metadata": {
  "kernelspec": {
   "display_name": "Python 3",
   "language": "python",
   "name": "python3"
  },
  "language_info": {
   "codemirror_mode": {
    "name": "ipython",
    "version": 3
   },
   "file_extension": ".py",
   "mimetype": "text/x-python",
   "name": "python",
   "nbconvert_exporter": "python",
   "pygments_lexer": "ipython3",
   "version": "3.8.5"
  }
 },
 "nbformat": 4,
 "nbformat_minor": 4
}
